{
 "cells": [
  {
   "cell_type": "markdown",
   "metadata": {},
   "source": [
    "# Part 1: Packaging and Uploading your Algorithm for use with Amazon SageMaker\n",
    "\n",
    "### An overview of Docker\n",
    "\n",
    "If you're familiar with Docker already, you can skip ahead to the next section.\n",
    "\n",
    "For many data scientists, Docker containers are a new technology. But they are not difficult and can significantly simplify the deployment of your software packages. \n",
    "\n",
    "Docker provides a simple way to package arbitrary code into an _image_ that is totally self-contained. Once you have an image, you can use Docker to run a _container_ based on that image. Running a container is just like running a program on the machine except that the container creates a fully self-contained environment for the program to run. Containers are isolated from each other and from the host environment, so the way your program is set up is the way it runs, no matter where you run it.\n",
    "\n",
    "Docker is more powerful than environment managers like conda or virtualenv because (a) it is completely language independent and (b) it comprises your whole operating environment, including startup commands, and environment variable.\n",
    "\n",
    "A Docker container is like a virtual machine, but it is much lighter weight. For example, a program running in a container can start in less than a second and many containers can run simultaneously on the same physical or virtual machine instance.\n",
    "\n",
    "Docker uses a simple file called a `Dockerfile` to specify how the image is assembled. An example is provided below. You can build your Docker images based on Docker images built by yourself or by others, which can simplify things quite a bit.\n",
    "\n",
    "Docker has become very popular in programming and devops communities due to its flexibility and its well-defined specification of how code can be run in its containers. It is the underpinning of many services built in the past few years, such as [Amazon ECS].\n",
    "\n",
    "Amazon SageMaker uses Docker to allow users to train and deploy arbitrary algorithms.\n",
    "\n",
    "In Amazon SageMaker, Docker containers are invoked in a one way for training and another, slightly different, way for hosting. The following sections outline how to build containers for the SageMaker environment.\n",
    "\n",
    "Some helpful links:\n",
    "\n",
    "* [Docker home page](http://www.docker.com)\n",
    "* [Getting started with Docker](https://docs.docker.com/get-started/)\n",
    "* [Dockerfile reference](https://docs.docker.com/engine/reference/builder/)\n",
    "* [`docker run` reference](https://docs.docker.com/engine/reference/run/)\n",
    "\n",
    "[Amazon ECS]: https://aws.amazon.com/ecs/\n",
    "\n",
    "### How Amazon SageMaker runs your Docker container\n",
    "\n",
    "Because you can run the same image in training or hosting, Amazon SageMaker runs your container with the argument `train` or `serve`. How your container processes this argument depends on the container. All SageMaker deep learning framework containers already cover this requirement and will trigger your defined training algorithm and inference code.\n",
    "\n",
    "* If you specify a program as an `ENTRYPOINT` in the Dockerfile, that program will be run at startup and its first argument will be `train` or `serve`. The program can then look at that argument and decide what to do. The original `ENTRYPOINT` specified within the SageMaker PyTorch is [here](https://github.com/aws/sagemaker-pytorch-container/blob/master/docker/0.4.0/final/Dockerfile.cpu#L18).\n",
    "\n",
    "#### Running your container during training\n",
    "\n",
    "Currently, our SageMaker PyTorch container utilizes [console_scripts](http://python-packaging.readthedocs.io/en/latest/command-line-scripts.html#the-console-scripts-entry-point) to make use of the `train` command issued at training time. The line that gets invoked during `train` is defined within the setup.py file inside [SageMaker Containers](https://github.com/aws/sagemaker-containers/blob/master/setup.py#L48), our common SageMaker deep learning container framework. When this command is run, it will invoke the [trainer class](https://github.com/aws/sagemaker-containers/blob/master/src/sagemaker_containers/cli/train.py) to run, which will finally invoke our [PyTorch container code](https://github.com/aws/sagemaker-pytorch-container/blob/master/src/sagemaker_pytorch_container/training.py) to run your Python file.\n",
    "\n",
    "A number of files are laid out for your use, under the `/opt/ml` directory:\n",
    "\n",
    "    /opt/ml\n",
    "    |-- input\n",
    "    |   |-- config\n",
    "    |   |   |-- hyperparameters.json\n",
    "    |   |   `-- resourceConfig.json\n",
    "    |   `-- data\n",
    "    |       `-- <channel_name>\n",
    "    |           `-- <input data>\n",
    "    |-- model\n",
    "    |   `-- <model files>\n",
    "    `-- output\n",
    "        `-- failure\n",
    "\n",
    "##### The input\n",
    "\n",
    "* `/opt/ml/input/config` contains information to control how your program runs. `hyperparameters.json` is a JSON-formatted dictionary of hyperparameter names to values. These values are always strings, so you may need to convert them. `resourceConfig.json` is a JSON-formatted file that describes the network layout used for distributed training.\n",
    "* `/opt/ml/input/data/<channel_name>/` (for File mode) contains the input data for that channel. The channels are created based on the call to CreateTrainingJob but it's generally important that channels match algorithm expectations. The files for each channel are copied from S3 to this directory, preserving the tree structure indicated by the S3 key structure. \n",
    "* `/opt/ml/input/data/<channel_name>_<epoch_number>` (for Pipe mode) is the pipe for a given epoch. Epochs start at zero and go up by one each time you read them. There is no limit to the number of epochs that you can run, but you must close each pipe before reading the next epoch.\n",
    "\n",
    "##### The output\n",
    "\n",
    "* `/opt/ml/model/` is the directory where you write the model that your algorithm generates. Your model can be in any format that you want. It can be a single file or a whole directory tree. SageMaker packages any files in this directory into a compressed tar archive file. This file is made available at the S3 location returned in the `DescribeTrainingJob` result.\n",
    "* `/opt/ml/output` is a directory where the algorithm can write a file `failure` that describes why the job failed. The contents of this file are returned in the `FailureReason` field of the `DescribeTrainingJob` result. For jobs that succeed, there is no reason to write this file as it is ignored."
   ]
  },
  {
   "cell_type": "markdown",
   "metadata": {},
   "source": [
    "### The parts of the sample container\n",
    "\n",
    "The `container` directory has all the components you need to extend the SageMaker PyTorch CPU or GPU container to use as an sample algorithm.\n",
    "\n",
    "    .\n",
    "    |-- build_and_push.sh\n",
    "    |-- Dockerfile-cpu\n",
    "    |-- Dockerfile-gpu\n",
    "    |-- requirements.txt\n",
    "    `-- src\n",
    "        `-- train.py\n",
    "         -- [Python Modules]\n",
    "\n",
    "Let's discuss each of these in turn:\n",
    "\n",
    "* __`build_and_push.sh`__ is a script that uses the Dockerfile to build your container images and then pushes it to ECR. We invoke the commands directly later in this notebook, but you can just copy and run the script for your own algorithms.\n",
    "* __`src`__ is the directory which contains our user code to be invoked.\n",
    "* __`train.py`__ is the interface to SageMaker.\n",
    "* __`Dockerfile-cpu`__ describes how to build your Docker container image. More details are provided below.\n",
    "* __`Dockerfile-gpu`__ builds the GPU image.\n"
   ]
  },
  {
   "cell_type": "markdown",
   "metadata": {},
   "source": [
    "### The Dockerfile\n",
    "\n",
    "The Dockerfile describes the image that we want to build. You can think of it as describing the complete operating system installation of the system that you want to run. A Docker container running is quite a bit lighter than a full operating system, however, because it takes advantage of Linux on the host machine for the basic operations. \n",
    "\n",
    "We start from the SageMaker PyTorch image as the base. The base image is an ECR image, so it will have the following pattern.\n",
    "* {account}.dkr.ecr.{region}.amazonaws.com/sagemaker-{framework}:{framework_version}-{processor_type}-{python_version}\n",
    "\n",
    "Here is an explanation of each field.\n",
    "1. account - AWS account ID the ECR image belongs to. Our public deep learning framework images are all under the 520713654638 account.\n",
    "2. region - The region the ECR image belongs to. [Available regions](https://aws.amazon.com/about-aws/global-infrastructure/regional-product-services/).\n",
    "3. framework - The deep learning framework.\n",
    "4. framework_version - The version of the deep learning framework.\n",
    "5. processor_type - CPU or GPU.\n",
    "6. python_version - The supported version of Python.\n",
    "\n",
    "So the SageMaker PyTorch ECR image would be:\n",
    "520713654638.dkr.ecr.us-west-2.amazonaws.com/sagemaker-pytorch:0.4.0-cpu-py3\n",
    "\n",
    "Information on supported frameworks and versions can be found in this [README](https://github.com/aws/sagemaker-python-sdk).\n",
    "\n",
    "Next, we add the code that implements our specific algorithm to the container and set up the right environment for it to run under.\n",
    "\n",
    "**DISCLAIMER: As of now, the support for the two environment variables below are only supported for the SageMaker Chainer (4.1.0+) and PyTorch (0.4.0+) containers.**\n",
    "\n",
    "Finally, we need to specify two environment variables.\n",
    "1. SAGEMAKER_SUBMIT_DIRECTORY - the directory within the container containing our Python script for training and inference.\n",
    "2. SAGEMAKER_PROGRAM - the Python script that should be invoked for training and inference.\n",
    "\n",
    "Let's look at the Dockerfile for this example."
   ]
  },
  {
   "cell_type": "markdown",
   "metadata": {},
   "source": [
    "### Building and registering the container\n",
    "\n",
    "The `build-and-push.sh` builds the container image using `docker build` and push the container image to ECR using `docker push`. \n",
    "\n",
    "If the `gpu` argument is passed to `build-and-push.sh` the GPU Docker file is used to create the GPU instance.  Otherwise the CPU instance is created.\n",
    "\n",
    "This code looks for an ECR repository in the account you're using and the current default region (if you're using a SageMaker notebook instance, this is the region where the notebook instance was created). If the repository doesn't exist, the script will create it. In addition, since we are using the SageMaker PyTorch image as the base, we will need to retrieve ECR credentials to pull this public image."
   ]
  },
  {
   "cell_type": "code",
   "execution_count": 18,
   "metadata": {},
   "outputs": [
    {
     "name": "stdout",
     "output_type": "stream",
     "text": [
      "Requesting CPU image\n",
      "Login Succeeded\n",
      "Login Succeeded\n",
      "Sending build context to Docker daemon  178.8MB\n",
      "Step 1/10 : ARG REGION=us-east-1\n",
      "Step 2/10 : FROM 520713654638.dkr.ecr.$REGION.amazonaws.com/sagemaker-pytorch:1.1.0-cpu-py3\n",
      " ---> d374fb352c72\n",
      "Step 3/10 : RUN pip install --upgrade pip\n",
      " ---> Using cache\n",
      " ---> d07c143c2422\n",
      "Step 4/10 : COPY requirements.txt requirements.txt\n",
      " ---> Using cache\n",
      " ---> 06c9f36f59b0\n",
      "Step 5/10 : RUN pip install -r requirements.txt\n",
      " ---> Using cache\n",
      " ---> 28c88069e3b5\n",
      "Step 6/10 : ENV PATH=\"/opt/ml/code:${PATH}\"\n",
      " ---> Using cache\n",
      " ---> 363b04806968\n",
      "Step 7/10 : COPY /src /opt/ml/code\n",
      " ---> Using cache\n",
      " ---> 6b69c257e340\n",
      "Step 8/10 : RUN chmod -R 755 /opt/ml/code\n",
      " ---> Using cache\n",
      " ---> 88a1a67c6cfd\n",
      "Step 9/10 : ENV SAGEMAKER_SUBMIT_DIRECTORY /opt/ml/code\n",
      " ---> Using cache\n",
      " ---> fdd6e3fe53f9\n",
      "Step 10/10 : ENV SAGEMAKER_PROGRAM train.py\n",
      " ---> Using cache\n",
      " ---> 78fcdb945cb5\n",
      "Successfully built 78fcdb945cb5\n",
      "Successfully tagged sagemaker-tennis-cpu:latest\n",
      "Building CPU image\n",
      "The push refers to repository [031118886020.dkr.ecr.us-east-1.amazonaws.com/sagemaker-tennis-cpu]\n",
      "\n",
      "\u001b[1Ba65627be: Preparing \n",
      "\u001b[1Ba25f80a5: Preparing \n",
      "\u001b[1B2028126c: Preparing \n",
      "\u001b[1B650268ac: Preparing \n",
      "\u001b[1Bddcf1578: Preparing \n",
      "\u001b[1Becc4e4d4: Preparing \n",
      "\u001b[1B808cebd3: Preparing \n",
      "\u001b[1Bf05eda79: Preparing \n",
      "\u001b[1B71db9add: Preparing \n",
      "\u001b[1B53464ab3: Preparing \n",
      "\u001b[1Bc4bd5031: Preparing \n",
      "\u001b[1Bd01ff144: Preparing \n",
      "\u001b[1B7f77d9db: Preparing \n",
      "\u001b[1B42719515: Preparing \n",
      "\u001b[1B103e78c9: Preparing \n",
      "\u001b[1Be637fbff: Preparing \n",
      "\u001b[1Bb9b0fb21: Layer already exists K\u001b[15A\u001b[1K\u001b[K\u001b[K\u001b[4A\u001b[1K\u001b[K\u001b[1A\u001b[1K\u001b[Klatest: digest: sha256:518af7eff00af7c71c49bf346ba1c36b025bc624f9190e6c6a4c5a769abd0194 size: 3883\n"
     ]
    }
   ],
   "source": [
    "!./container/build_and_push.sh"
   ]
  },
  {
   "cell_type": "markdown",
   "metadata": {},
   "source": [
    "## Testing your algorithm on your local machine\n",
    "\n",
    "When you're packaging your first algorithm to use with Amazon SageMaker, you probably want to test it yourself to make sure it's working correctly. We use the [SageMaker Python SDK](https://github.com/aws/sagemaker-python-sdk) to test both locally and on SageMaker. For more examples with the SageMaker Python SDK, see [Amazon SageMaker Examples](https://github.com/awslabs/amazon-sagemaker-examples/tree/master/sagemaker-python-sdk). In order to test our algorithm, we need our dataset."
   ]
  },
  {
   "cell_type": "markdown",
   "metadata": {},
   "source": [
    "## SageMaker Python SDK Local Training\n",
    "To represent our training, we use the Estimator class, which needs to be configured in five steps. \n",
    "1. IAM role - our AWS execution role\n",
    "2. train_instance_count - number of instances to use for training.\n",
    "3. train_instance_type - type of instance to use for training. For training locally, we specify `local`.\n",
    "4. image_name - our custom PyTorch Docker image we created.\n",
    "5. hyperparameters - hyperparameters we want to pass.\n",
    "\n",
    "Let's start with setting up our IAM role. We make use of a helper function within the Python SDK. This function throw an exception if run outside of a SageMaker notebook instance, as it gets metadata from the notebook instance. If running outside, you must provide an IAM role with proper access stated above in [Permissions](#Permissions)."
   ]
  },
  {
   "cell_type": "markdown",
   "metadata": {},
   "source": [
    "### Setup Notebook for local execution"
   ]
  },
  {
   "cell_type": "code",
   "execution_count": 19,
   "metadata": {},
   "outputs": [
    {
     "name": "stdout",
     "output_type": "stream",
     "text": [
      "The user has root access.\n",
      "SageMaker instance route table setup is ok. We are good to go.\n",
      "SageMaker instance routing for Docker is ok. We are good to go!\n"
     ]
    }
   ],
   "source": [
    "!/bin/bash ./utils/setup.sh"
   ]
  },
  {
   "cell_type": "markdown",
   "metadata": {},
   "source": [
    "### Traing the Reinforcement Learning Model Locally\n",
    "Note we are only training for 200 iterations, which is too few to see any increase in the average score.  We are a purely checking for mechanical errors."
   ]
  },
  {
   "cell_type": "code",
   "execution_count": 20,
   "metadata": {},
   "outputs": [
    {
     "name": "stdout",
     "output_type": "stream",
     "text": [
      "Creating tmp7fg3myn1_algo-1-i5b5u_1 ... \n",
      "\u001b[1BAttaching to tmp7fg3myn1_algo-1-i5b5u_12mdone\u001b[0m\n",
      "\u001b[36malgo-1-i5b5u_1  |\u001b[0m 2020-06-26 16:41:38,807 sagemaker-containers INFO     Imported framework sagemaker_pytorch_container.training\n",
      "\u001b[36malgo-1-i5b5u_1  |\u001b[0m 2020-06-26 16:41:38,811 sagemaker-containers INFO     No GPUs detected (normal if no gpus installed)\n",
      "\u001b[36malgo-1-i5b5u_1  |\u001b[0m 2020-06-26 16:41:38,824 sagemaker_pytorch_container.training INFO     Block until all host DNS lookups succeed.\n",
      "\u001b[36malgo-1-i5b5u_1  |\u001b[0m 2020-06-26 16:41:38,825 sagemaker_pytorch_container.training INFO     Invoking user training script.\n",
      "\u001b[36malgo-1-i5b5u_1  |\u001b[0m 2020-06-26 16:41:38,825 sagemaker-containers INFO     Module train does not provide a setup.py. \n",
      "\u001b[36malgo-1-i5b5u_1  |\u001b[0m Generating setup.py\n",
      "\u001b[36malgo-1-i5b5u_1  |\u001b[0m 2020-06-26 16:41:38,826 sagemaker-containers INFO     Generating setup.cfg\n",
      "\u001b[36malgo-1-i5b5u_1  |\u001b[0m 2020-06-26 16:41:38,826 sagemaker-containers INFO     Generating MANIFEST.in\n",
      "\u001b[36malgo-1-i5b5u_1  |\u001b[0m 2020-06-26 16:41:38,826 sagemaker-containers INFO     Installing module with the following command:\n",
      "\u001b[36malgo-1-i5b5u_1  |\u001b[0m /usr/bin/python -m pip install . \n",
      "\u001b[36malgo-1-i5b5u_1  |\u001b[0m Processing /opt/ml/code\n",
      "\u001b[36malgo-1-i5b5u_1  |\u001b[0m Building wheels for collected packages: train\n",
      "\u001b[36malgo-1-i5b5u_1  |\u001b[0m   Building wheel for train (setup.py) ... \u001b[?25ldone\n",
      "\u001b[36malgo-1-i5b5u_1  |\u001b[0m \u001b[?25h  Created wheel for train: filename=train-1.0.0-py2.py3-none-any.whl size=45199199 sha256=aca1371c19facbe8de4fa36544223dc924a434054b9123a7234cdd93653f3911\n",
      "\u001b[36malgo-1-i5b5u_1  |\u001b[0m   Stored in directory: /tmp/pip-ephem-wheel-cache-78rd__0p/wheels/95/c1/85/65aaf48b35aba88c6e896d2fd04a4b69f1cee0d81ea32993ca\n",
      "\u001b[36malgo-1-i5b5u_1  |\u001b[0m Successfully built train\n",
      "\u001b[36malgo-1-i5b5u_1  |\u001b[0m Installing collected packages: train\n",
      "\u001b[36malgo-1-i5b5u_1  |\u001b[0m Successfully installed train-1.0.0\n",
      "\u001b[36malgo-1-i5b5u_1  |\u001b[0m 2020-06-26 16:41:53,001 sagemaker-containers INFO     No GPUs detected (normal if no gpus installed)\n",
      "\u001b[36malgo-1-i5b5u_1  |\u001b[0m 2020-06-26 16:41:53,015 sagemaker-containers INFO     Invoking user script\n",
      "\u001b[36malgo-1-i5b5u_1  |\u001b[0m \n",
      "\u001b[36malgo-1-i5b5u_1  |\u001b[0m Training Env:\n",
      "\u001b[36malgo-1-i5b5u_1  |\u001b[0m \n",
      "\u001b[36malgo-1-i5b5u_1  |\u001b[0m {\n",
      "\u001b[36malgo-1-i5b5u_1  |\u001b[0m     \"additional_framework_parameters\": {},\n",
      "\u001b[36malgo-1-i5b5u_1  |\u001b[0m     \"channel_input_dirs\": {},\n",
      "\u001b[36malgo-1-i5b5u_1  |\u001b[0m     \"current_host\": \"algo-1-i5b5u\",\n",
      "\u001b[36malgo-1-i5b5u_1  |\u001b[0m     \"framework_module\": \"sagemaker_pytorch_container.training:main\",\n",
      "\u001b[36malgo-1-i5b5u_1  |\u001b[0m     \"hosts\": [\n",
      "\u001b[36malgo-1-i5b5u_1  |\u001b[0m         \"algo-1-i5b5u\"\n",
      "\u001b[36malgo-1-i5b5u_1  |\u001b[0m     ],\n",
      "\u001b[36malgo-1-i5b5u_1  |\u001b[0m     \"hyperparameters\": {\n",
      "\u001b[36malgo-1-i5b5u_1  |\u001b[0m         \"epochs\": 200\n",
      "\u001b[36malgo-1-i5b5u_1  |\u001b[0m     },\n",
      "\u001b[36malgo-1-i5b5u_1  |\u001b[0m     \"input_config_dir\": \"/opt/ml/input/config\",\n",
      "\u001b[36malgo-1-i5b5u_1  |\u001b[0m     \"input_data_config\": {},\n",
      "\u001b[36malgo-1-i5b5u_1  |\u001b[0m     \"input_dir\": \"/opt/ml/input\",\n",
      "\u001b[36malgo-1-i5b5u_1  |\u001b[0m     \"is_master\": true,\n",
      "\u001b[36malgo-1-i5b5u_1  |\u001b[0m     \"job_name\": \"sagemaker-tennis-cpu-2020-06-26-16-41-36-004\",\n",
      "\u001b[36malgo-1-i5b5u_1  |\u001b[0m     \"log_level\": 20,\n",
      "\u001b[36malgo-1-i5b5u_1  |\u001b[0m     \"master_hostname\": \"algo-1-i5b5u\",\n",
      "\u001b[36malgo-1-i5b5u_1  |\u001b[0m     \"model_dir\": \"/opt/ml/model\",\n",
      "\u001b[36malgo-1-i5b5u_1  |\u001b[0m     \"module_dir\": \"/opt/ml/code\",\n",
      "\u001b[36malgo-1-i5b5u_1  |\u001b[0m     \"module_name\": \"train\",\n",
      "\u001b[36malgo-1-i5b5u_1  |\u001b[0m     \"network_interface_name\": \"eth0\",\n",
      "\u001b[36malgo-1-i5b5u_1  |\u001b[0m     \"num_cpus\": 2,\n",
      "\u001b[36malgo-1-i5b5u_1  |\u001b[0m     \"num_gpus\": 0,\n",
      "\u001b[36malgo-1-i5b5u_1  |\u001b[0m     \"output_data_dir\": \"/opt/ml/output/data\",\n",
      "\u001b[36malgo-1-i5b5u_1  |\u001b[0m     \"output_dir\": \"/opt/ml/output\",\n",
      "\u001b[36malgo-1-i5b5u_1  |\u001b[0m     \"output_intermediate_dir\": \"/opt/ml/output/intermediate\",\n",
      "\u001b[36malgo-1-i5b5u_1  |\u001b[0m     \"resource_config\": {\n",
      "\u001b[36malgo-1-i5b5u_1  |\u001b[0m         \"current_host\": \"algo-1-i5b5u\",\n",
      "\u001b[36malgo-1-i5b5u_1  |\u001b[0m         \"hosts\": [\n",
      "\u001b[36malgo-1-i5b5u_1  |\u001b[0m             \"algo-1-i5b5u\"\n",
      "\u001b[36malgo-1-i5b5u_1  |\u001b[0m         ]\n",
      "\u001b[36malgo-1-i5b5u_1  |\u001b[0m     },\n",
      "\u001b[36malgo-1-i5b5u_1  |\u001b[0m     \"user_entry_point\": \"train.py\"\n",
      "\u001b[36malgo-1-i5b5u_1  |\u001b[0m }\n",
      "\u001b[36malgo-1-i5b5u_1  |\u001b[0m \n",
      "\u001b[36malgo-1-i5b5u_1  |\u001b[0m Environment variables:\n",
      "\u001b[36malgo-1-i5b5u_1  |\u001b[0m \n",
      "\u001b[36malgo-1-i5b5u_1  |\u001b[0m SM_HOSTS=[\"algo-1-i5b5u\"]\n",
      "\u001b[36malgo-1-i5b5u_1  |\u001b[0m SM_NETWORK_INTERFACE_NAME=eth0\n",
      "\u001b[36malgo-1-i5b5u_1  |\u001b[0m SM_HPS={\"epochs\":200}\n",
      "\u001b[36malgo-1-i5b5u_1  |\u001b[0m SM_USER_ENTRY_POINT=train.py\n",
      "\u001b[36malgo-1-i5b5u_1  |\u001b[0m SM_FRAMEWORK_PARAMS={}\n",
      "\u001b[36malgo-1-i5b5u_1  |\u001b[0m SM_RESOURCE_CONFIG={\"current_host\":\"algo-1-i5b5u\",\"hosts\":[\"algo-1-i5b5u\"]}\n",
      "\u001b[36malgo-1-i5b5u_1  |\u001b[0m SM_INPUT_DATA_CONFIG={}\n",
      "\u001b[36malgo-1-i5b5u_1  |\u001b[0m SM_OUTPUT_DATA_DIR=/opt/ml/output/data\n",
      "\u001b[36malgo-1-i5b5u_1  |\u001b[0m SM_CHANNELS=[]\n",
      "\u001b[36malgo-1-i5b5u_1  |\u001b[0m SM_CURRENT_HOST=algo-1-i5b5u\n",
      "\u001b[36malgo-1-i5b5u_1  |\u001b[0m SM_MODULE_NAME=train\n",
      "\u001b[36malgo-1-i5b5u_1  |\u001b[0m SM_LOG_LEVEL=20\n",
      "\u001b[36malgo-1-i5b5u_1  |\u001b[0m SM_FRAMEWORK_MODULE=sagemaker_pytorch_container.training:main\n",
      "\u001b[36malgo-1-i5b5u_1  |\u001b[0m SM_INPUT_DIR=/opt/ml/input\n",
      "\u001b[36malgo-1-i5b5u_1  |\u001b[0m SM_INPUT_CONFIG_DIR=/opt/ml/input/config\n",
      "\u001b[36malgo-1-i5b5u_1  |\u001b[0m SM_OUTPUT_DIR=/opt/ml/output\n",
      "\u001b[36malgo-1-i5b5u_1  |\u001b[0m SM_NUM_CPUS=2\n",
      "\u001b[36malgo-1-i5b5u_1  |\u001b[0m SM_NUM_GPUS=0\n",
      "\u001b[36malgo-1-i5b5u_1  |\u001b[0m SM_MODEL_DIR=/opt/ml/model\n",
      "\u001b[36malgo-1-i5b5u_1  |\u001b[0m SM_MODULE_DIR=/opt/ml/code\n",
      "\u001b[36malgo-1-i5b5u_1  |\u001b[0m SM_TRAINING_ENV={\"additional_framework_parameters\":{},\"channel_input_dirs\":{},\"current_host\":\"algo-1-i5b5u\",\"framework_module\":\"sagemaker_pytorch_container.training:main\",\"hosts\":[\"algo-1-i5b5u\"],\"hyperparameters\":{\"epochs\":200},\"input_config_dir\":\"/opt/ml/input/config\",\"input_data_config\":{},\"input_dir\":\"/opt/ml/input\",\"is_master\":true,\"job_name\":\"sagemaker-tennis-cpu-2020-06-26-16-41-36-004\",\"log_level\":20,\"master_hostname\":\"algo-1-i5b5u\",\"model_dir\":\"/opt/ml/model\",\"module_dir\":\"/opt/ml/code\",\"module_name\":\"train\",\"network_interface_name\":\"eth0\",\"num_cpus\":2,\"num_gpus\":0,\"output_data_dir\":\"/opt/ml/output/data\",\"output_dir\":\"/opt/ml/output\",\"output_intermediate_dir\":\"/opt/ml/output/intermediate\",\"resource_config\":{\"current_host\":\"algo-1-i5b5u\",\"hosts\":[\"algo-1-i5b5u\"]},\"user_entry_point\":\"train.py\"}\n",
      "\u001b[36malgo-1-i5b5u_1  |\u001b[0m SM_USER_ARGS=[\"--epochs\",\"200\"]\n",
      "\u001b[36malgo-1-i5b5u_1  |\u001b[0m SM_OUTPUT_INTERMEDIATE_DIR=/opt/ml/output/intermediate\n",
      "\u001b[36malgo-1-i5b5u_1  |\u001b[0m SM_HP_EPOCHS=200\n",
      "\u001b[36malgo-1-i5b5u_1  |\u001b[0m PYTHONPATH=/usr/local/bin:/usr/lib/python36.zip:/usr/lib/python3.6:/usr/lib/python3.6/lib-dynload:/usr/local/lib/python3.6/dist-packages:/usr/lib/python3/dist-packages\n",
      "\u001b[36malgo-1-i5b5u_1  |\u001b[0m \n",
      "\u001b[36malgo-1-i5b5u_1  |\u001b[0m Invoking script with the following command:\n",
      "\u001b[36malgo-1-i5b5u_1  |\u001b[0m \n",
      "\u001b[36malgo-1-i5b5u_1  |\u001b[0m /usr/bin/python -m train --epochs 200\n",
      "\u001b[36malgo-1-i5b5u_1  |\u001b[0m \n",
      "\u001b[36malgo-1-i5b5u_1  |\u001b[0m \n",
      "\u001b[36malgo-1-i5b5u_1  |\u001b[0m Found path: /opt/ml/code/Tennis_Linux_NoVis/Tennis.x86_64\n",
      "\u001b[36malgo-1-i5b5u_1  |\u001b[0m Mono path[0] = '/opt/ml/code/Tennis_Linux_NoVis/Tennis_Data/Managed'\n",
      "\u001b[36malgo-1-i5b5u_1  |\u001b[0m Mono config path = '/opt/ml/code/Tennis_Linux_NoVis/Tennis_Data/MonoBleedingEdge/etc'\n",
      "\u001b[36malgo-1-i5b5u_1  |\u001b[0m Preloaded 'libgrpc_csharp_ext.x64.so'\n",
      "\u001b[36malgo-1-i5b5u_1  |\u001b[0m Unable to preload the following plugins:\n",
      "\u001b[36malgo-1-i5b5u_1  |\u001b[0m \tlibgrpc_csharp_ext.x86.so\n",
      "\u001b[36malgo-1-i5b5u_1  |\u001b[0m PlayerPrefs - Creating folder: /root/.config/unity3d/Unity Technologies\n",
      "\u001b[36malgo-1-i5b5u_1  |\u001b[0m PlayerPrefs - Creating folder: /root/.config/unity3d/Unity Technologies/Unity Environment\n",
      "\u001b[36malgo-1-i5b5u_1  |\u001b[0m Logging to /root/.config/unity3d/Unity Technologies/Unity Environment/Player.log\n",
      "\u001b[36malgo-1-i5b5u_1  |\u001b[0m Episode 100 Average Score: 0.00\n",
      "\u001b[36malgo-1-i5b5u_1  |\u001b[0m Episode 200 Average Score: 0.00\n",
      "\u001b[36malgo-1-i5b5u_1  |\u001b[0m 2020-06-26 16:43:09,289 sagemaker-containers INFO     Reporting training SUCCESS\n",
      "\u001b[36mtmp7fg3myn1_algo-1-i5b5u_1 exited with code 0\n",
      "\u001b[0mAborting on container exit...\n"
     ]
    },
    {
     "name": "stderr",
     "output_type": "stream",
     "text": [
      "Failed to delete: /tmp/tmp7fg3myn1/algo-1-i5b5u Please remove it manually.\n"
     ]
    },
    {
     "name": "stdout",
     "output_type": "stream",
     "text": [
      "===== Job Complete =====\n"
     ]
    }
   ],
   "source": [
    "from sagemaker.estimator import Estimator\n",
    "from sagemaker import get_execution_role\n",
    "\n",
    "role = get_execution_role()\n",
    "estimator = Estimator(role=role,\n",
    "                      train_instance_count=1,\n",
    "                      train_instance_type='local',\n",
    "                      image_name='sagemaker-tennis-cpu:latest',\n",
    "                      hyperparameters={'epochs': 200})\n",
    "\n",
    "estimator.fit()"
   ]
  },
  {
   "cell_type": "markdown",
   "metadata": {},
   "source": [
    "## Training on SageMaker\n",
    "Training a model on SageMaker with the Python SDK is done in a way that is similar to the way we trained it locally. This is done by changing our train_instance_type from `local` to one of our [supported EC2 instance types](https://aws.amazon.com/sagemaker/pricing/instance-types/)."
   ]
  },
  {
   "cell_type": "markdown",
   "metadata": {},
   "source": [
    "### Locate the ECR image just built and pushed"
   ]
  },
  {
   "cell_type": "code",
   "execution_count": 21,
   "metadata": {},
   "outputs": [
    {
     "name": "stdout",
     "output_type": "stream",
     "text": [
      "031118886020.dkr.ecr.us-east-1.amazonaws.com/sagemaker-tennis-cpu:latest\n"
     ]
    }
   ],
   "source": [
    "import boto3\n",
    "\n",
    "client = boto3.client('sts')\n",
    "account = client.get_caller_identity()['Account']\n",
    "region = boto3.Session().region_name\n",
    "ecr_image = '{}.dkr.ecr.{}.amazonaws.com/sagemaker-tennis-cpu:latest'.format(account, region)\n",
    "\n",
    "print(ecr_image)"
   ]
  },
  {
   "cell_type": "markdown",
   "metadata": {},
   "source": [
    "### Submit the training job"
   ]
  },
  {
   "cell_type": "code",
   "execution_count": 22,
   "metadata": {},
   "outputs": [
    {
     "name": "stdout",
     "output_type": "stream",
     "text": [
      "2020-06-26 16:43:10 Starting - Starting the training job...\n",
      "2020-06-26 16:43:12 Starting - Launching requested ML instances.........\n",
      "2020-06-26 16:44:54 Starting - Preparing the instances for training......\n",
      "2020-06-26 16:45:59 Downloading - Downloading input data\n",
      "2020-06-26 16:45:59 Training - Downloading the training image......\n",
      "2020-06-26 16:47:06 Training - Training image download completed. Training in progress..\u001b[34mbash: cannot set terminal process group (-1): Inappropriate ioctl for device\u001b[0m\n",
      "\u001b[34mbash: no job control in this shell\u001b[0m\n",
      "\u001b[34m2020-06-26 16:47:07,828 sagemaker-containers INFO     Imported framework sagemaker_pytorch_container.training\u001b[0m\n",
      "\u001b[34m2020-06-26 16:47:07,830 sagemaker-containers INFO     No GPUs detected (normal if no gpus installed)\u001b[0m\n",
      "\u001b[34m2020-06-26 16:47:07,843 sagemaker_pytorch_container.training INFO     Block until all host DNS lookups succeed.\u001b[0m\n",
      "\u001b[34m2020-06-26 16:47:10,883 sagemaker_pytorch_container.training INFO     Invoking user training script.\u001b[0m\n",
      "\u001b[34m2020-06-26 16:47:10,884 sagemaker-containers INFO     Module train does not provide a setup.py. \u001b[0m\n",
      "\u001b[34mGenerating setup.py\u001b[0m\n",
      "\u001b[34m2020-06-26 16:47:10,884 sagemaker-containers INFO     Generating setup.cfg\u001b[0m\n",
      "\u001b[34m2020-06-26 16:47:10,884 sagemaker-containers INFO     Generating MANIFEST.in\u001b[0m\n",
      "\u001b[34m2020-06-26 16:47:10,884 sagemaker-containers INFO     Installing module with the following command:\u001b[0m\n",
      "\u001b[34m/usr/bin/python -m pip install . \u001b[0m\n",
      "\u001b[34mProcessing /opt/ml/code\u001b[0m\n",
      "\u001b[34mBuilding wheels for collected packages: train\n",
      "  Building wheel for train (setup.py): started\u001b[0m\n",
      "\u001b[34m  Building wheel for train (setup.py): finished with status 'done'\n",
      "  Created wheel for train: filename=train-1.0.0-py2.py3-none-any.whl size=45199199 sha256=54f805d17d06da63233fd6c50a8382933679925b577cde03d8ed1bd76fe401af\n",
      "  Stored in directory: /tmp/pip-ephem-wheel-cache-27r_2d9_/wheels/95/c1/85/65aaf48b35aba88c6e896d2fd04a4b69f1cee0d81ea32993ca\u001b[0m\n",
      "\u001b[34mSuccessfully built train\u001b[0m\n",
      "\u001b[34mInstalling collected packages: train\u001b[0m\n",
      "\u001b[34mSuccessfully installed train-1.0.0\u001b[0m\n",
      "\u001b[34m2020-06-26 16:47:22,686 sagemaker-containers INFO     No GPUs detected (normal if no gpus installed)\u001b[0m\n",
      "\u001b[34m2020-06-26 16:47:22,699 sagemaker-containers INFO     Invoking user script\n",
      "\u001b[0m\n",
      "\u001b[34mTraining Env:\n",
      "\u001b[0m\n",
      "\u001b[34m{\n",
      "    \"additional_framework_parameters\": {},\n",
      "    \"channel_input_dirs\": {},\n",
      "    \"current_host\": \"algo-1\",\n",
      "    \"framework_module\": \"sagemaker_pytorch_container.training:main\",\n",
      "    \"hosts\": [\n",
      "        \"algo-1\"\n",
      "    ],\n",
      "    \"hyperparameters\": {\n",
      "        \"epochs\": 200\n",
      "    },\n",
      "    \"input_config_dir\": \"/opt/ml/input/config\",\n",
      "    \"input_data_config\": {},\n",
      "    \"input_dir\": \"/opt/ml/input\",\n",
      "    \"is_master\": true,\n",
      "    \"job_name\": \"sagemaker-tennis-cpu-2020-06-26-16-43-10-008\",\n",
      "    \"log_level\": 20,\n",
      "    \"master_hostname\": \"algo-1\",\n",
      "    \"model_dir\": \"/opt/ml/model\",\n",
      "    \"module_dir\": \"/opt/ml/code\",\n",
      "    \"module_name\": \"train\",\n",
      "    \"network_interface_name\": \"eth0\",\n",
      "    \"num_cpus\": 4,\n",
      "    \"num_gpus\": 0,\n",
      "    \"output_data_dir\": \"/opt/ml/output/data\",\n",
      "    \"output_dir\": \"/opt/ml/output\",\n",
      "    \"output_intermediate_dir\": \"/opt/ml/output/intermediate\",\n",
      "    \"resource_config\": {\n",
      "        \"current_host\": \"algo-1\",\n",
      "        \"hosts\": [\n",
      "            \"algo-1\"\n",
      "        ],\n",
      "        \"network_interface_name\": \"eth0\"\n",
      "    },\n",
      "    \"user_entry_point\": \"train.py\"\u001b[0m\n",
      "\u001b[34m}\n",
      "\u001b[0m\n",
      "\u001b[34mEnvironment variables:\n",
      "\u001b[0m\n",
      "\u001b[34mSM_HOSTS=[\"algo-1\"]\u001b[0m\n",
      "\u001b[34mSM_NETWORK_INTERFACE_NAME=eth0\u001b[0m\n",
      "\u001b[34mSM_HPS={\"epochs\":200}\u001b[0m\n",
      "\u001b[34mSM_USER_ENTRY_POINT=train.py\u001b[0m\n",
      "\u001b[34mSM_FRAMEWORK_PARAMS={}\u001b[0m\n",
      "\u001b[34mSM_RESOURCE_CONFIG={\"current_host\":\"algo-1\",\"hosts\":[\"algo-1\"],\"network_interface_name\":\"eth0\"}\u001b[0m\n",
      "\u001b[34mSM_INPUT_DATA_CONFIG={}\u001b[0m\n",
      "\u001b[34mSM_OUTPUT_DATA_DIR=/opt/ml/output/data\u001b[0m\n",
      "\u001b[34mSM_CHANNELS=[]\u001b[0m\n",
      "\u001b[34mSM_CURRENT_HOST=algo-1\u001b[0m\n",
      "\u001b[34mSM_MODULE_NAME=train\u001b[0m\n",
      "\u001b[34mSM_LOG_LEVEL=20\u001b[0m\n",
      "\u001b[34mSM_FRAMEWORK_MODULE=sagemaker_pytorch_container.training:main\u001b[0m\n",
      "\u001b[34mSM_INPUT_DIR=/opt/ml/input\u001b[0m\n",
      "\u001b[34mSM_INPUT_CONFIG_DIR=/opt/ml/input/config\u001b[0m\n",
      "\u001b[34mSM_OUTPUT_DIR=/opt/ml/output\u001b[0m\n",
      "\u001b[34mSM_NUM_CPUS=4\u001b[0m\n",
      "\u001b[34mSM_NUM_GPUS=0\u001b[0m\n",
      "\u001b[34mSM_MODEL_DIR=/opt/ml/model\u001b[0m\n",
      "\u001b[34mSM_MODULE_DIR=/opt/ml/code\u001b[0m\n",
      "\u001b[34mSM_TRAINING_ENV={\"additional_framework_parameters\":{},\"channel_input_dirs\":{},\"current_host\":\"algo-1\",\"framework_module\":\"sagemaker_pytorch_container.training:main\",\"hosts\":[\"algo-1\"],\"hyperparameters\":{\"epochs\":200},\"input_config_dir\":\"/opt/ml/input/config\",\"input_data_config\":{},\"input_dir\":\"/opt/ml/input\",\"is_master\":true,\"job_name\":\"sagemaker-tennis-cpu-2020-06-26-16-43-10-008\",\"log_level\":20,\"master_hostname\":\"algo-1\",\"model_dir\":\"/opt/ml/model\",\"module_dir\":\"/opt/ml/code\",\"module_name\":\"train\",\"network_interface_name\":\"eth0\",\"num_cpus\":4,\"num_gpus\":0,\"output_data_dir\":\"/opt/ml/output/data\",\"output_dir\":\"/opt/ml/output\",\"output_intermediate_dir\":\"/opt/ml/output/intermediate\",\"resource_config\":{\"current_host\":\"algo-1\",\"hosts\":[\"algo-1\"],\"network_interface_name\":\"eth0\"},\"user_entry_point\":\"train.py\"}\u001b[0m\n",
      "\u001b[34mSM_USER_ARGS=[\"--epochs\",\"200\"]\u001b[0m\n",
      "\u001b[34mSM_OUTPUT_INTERMEDIATE_DIR=/opt/ml/output/intermediate\u001b[0m\n",
      "\u001b[34mSM_HP_EPOCHS=200\u001b[0m\n",
      "\u001b[34mPYTHONPATH=/usr/local/bin:/usr/lib/python36.zip:/usr/lib/python3.6:/usr/lib/python3.6/lib-dynload:/usr/local/lib/python3.6/dist-packages:/usr/lib/python3/dist-packages\n",
      "\u001b[0m\n",
      "\u001b[34mInvoking script with the following command:\n",
      "\u001b[0m\n",
      "\u001b[34m/usr/bin/python -m train --epochs 200\n",
      "\n",
      "\u001b[0m\n",
      "\u001b[34mFound path: /opt/ml/code/Tennis_Linux_NoVis/Tennis.x86_64\u001b[0m\n",
      "\u001b[34mMono path[0] = '/opt/ml/code/Tennis_Linux_NoVis/Tennis_Data/Managed'\u001b[0m\n",
      "\u001b[34mMono config path = '/opt/ml/code/Tennis_Linux_NoVis/Tennis_Data/MonoBleedingEdge/etc'\u001b[0m\n",
      "\u001b[34mPreloaded 'libgrpc_csharp_ext.x64.so'\u001b[0m\n",
      "\u001b[34mUnable to preload the following plugins:\u001b[0m\n",
      "\u001b[34m#011libgrpc_csharp_ext.x86.so\u001b[0m\n",
      "\u001b[34mPlayerPrefs - Creating folder: /root/.config/unity3d/Unity Technologies\u001b[0m\n",
      "\u001b[34mPlayerPrefs - Creating folder: /root/.config/unity3d/Unity Technologies/Unity Environment\u001b[0m\n",
      "\u001b[34mLogging to /root/.config/unity3d/Unity Technologies/Unity Environment/Player.log\u001b[0m\n",
      "\u001b[34mEpisode 100 Average Score: 0.00\u001b[0m\n",
      "\n",
      "2020-06-26 16:48:38 Uploading - Uploading generated training model\n",
      "2020-06-26 16:48:38 Completed - Training job completed\n",
      "\u001b[34mEpisode 200 Average Score: 0.00\u001b[0m\n",
      "\u001b[34m2020-06-26 16:48:30,134 sagemaker-containers INFO     Reporting training SUCCESS\u001b[0m\n",
      "Training seconds: 171\n",
      "Billable seconds: 171\n"
     ]
    }
   ],
   "source": [
    "from sagemaker.estimator import Estimator\n",
    "estimator = Estimator(role=role,\n",
    "                      train_instance_count=1,\n",
    "                      train_instance_type='ml.m4.xlarge',\n",
    "                      image_name=ecr_image,\n",
    "                      hyperparameters={'epochs': 200})\n",
    "estimator.fit()"
   ]
  },
  {
   "cell_type": "markdown",
   "metadata": {},
   "source": [
    "### Get the results"
   ]
  },
  {
   "cell_type": "markdown",
   "metadata": {},
   "source": [
    "#### Get the bucket name"
   ]
  },
  {
   "cell_type": "code",
   "execution_count": 23,
   "metadata": {},
   "outputs": [
    {
     "name": "stdout",
     "output_type": "stream",
     "text": [
      "sagemaker-us-east-1-031118886020\n",
      "sagemaker-tennis-cpu-2020-06-26-16-43-10-008\n"
     ]
    }
   ],
   "source": [
    "from sagemaker.session import Session\n",
    "\n",
    "sagemaker_session = Session()\n",
    "bucket = sagemaker_session.default_bucket()\n",
    "job_name = estimator._current_job_name\n",
    "print(bucket)\n",
    "print(job_name)"
   ]
  },
  {
   "cell_type": "markdown",
   "metadata": {},
   "source": [
    "#### Copy and unpack the result archive"
   ]
  },
  {
   "cell_type": "code",
   "execution_count": 24,
   "metadata": {},
   "outputs": [
    {
     "name": "stdout",
     "output_type": "stream",
     "text": [
      "sagemaker-tennis-cpu-2020-06-26-16-43-10-008/output/output.tar.gz\n"
     ]
    }
   ],
   "source": [
    "import shutil\n",
    "\n",
    "s3 = boto3.resource('s3')\n",
    "key = '{}/output/output.tar.gz'.format(estimator._current_job_name)\n",
    "print(key)\n",
    "s3.Bucket(bucket).download_file(key, 'output.tar.gz')\n",
    "shutil.unpack_archive('output.tar.gz')"
   ]
  },
  {
   "cell_type": "code",
   "execution_count": 25,
   "metadata": {},
   "outputs": [
    {
     "data": {
      "image/png": "[encoded data removed]",
      "text/plain": [
       "<IPython.core.display.Image object>"
      ]
     },
     "execution_count": 25,
     "metadata": {},
     "output_type": "execute_result"
    }
   ],
   "source": [
    "from IPython.display import Image\n",
    "Image(filename='scores.png') "
   ]
  },
  {
   "cell_type": "markdown",
   "metadata": {},
   "source": [
    "As expected the above image isn't very interesting since we only ran for 200 iterations.  Here is the same result when we ran for 2000.\n",
    "![scores](scores-initial.png)"
   ]
  },
  {
   "cell_type": "markdown",
   "metadata": {},
   "source": [
    "# Reference\n",
    "- [SageMaker Example:  Extending PyTorch Container](https://github.com/awslabs/amazon-sagemaker-examples/tree/master/advanced_functionality/pytorch_extending_our_containers)\n",
    "- [How Amazon SageMaker interacts with your Docker container for training](https://docs.aws.amazon.com/sagemaker/latest/dg/your-algorithms-training-algo.html)\n",
    "- [SageMaker Python SDK](https://github.com/aws/sagemaker-python-sdk)\n",
    "- [Dockerfile](https://docs.docker.com/engine/reference/builder/)\n",
    "- [scikit-bring-your-own](https://github.com/awslabs/amazon-sagemaker-examples/blob/master/advanced_functionality/scikit_bring_your_own/scikit_bring_your_own.ipynb)\n",
    "- [SageMaker PyTorch container](https://github.com/aws/sagemaker-pytorch-container)"
   ]
  },
  {
   "cell_type": "code",
   "execution_count": null,
   "metadata": {},
   "outputs": [],
   "source": []
  }
 ],
 "metadata": {
  "kernelspec": {
   "display_name": "conda_pytorch_p36",
   "language": "python",
   "name": "conda_pytorch_p36"
  },
  "language_info": {
   "codemirror_mode": {
    "name": "ipython",
    "version": 3
   },
   "file_extension": ".py",
   "mimetype": "text/x-python",
   "name": "python",
   "nbconvert_exporter": "python",
   "pygments_lexer": "ipython3",
   "version": "3.6.5"
  }
 },
 "nbformat": 4,
 "nbformat_minor": 2
}
