{
 "cells": [
  {
   "cell_type": "markdown",
   "metadata": {},
   "source": [
    "# Compare Price and Speed\n",
    "\n",
    "This notebook runs 200 epochs on a number of CPU and GPU instance types.  This information will then be used to select the best instance type for the [hyper-parameter tunning](tuning.ipynb)."
   ]
  },
  {
   "cell_type": "markdown",
   "metadata": {},
   "source": [
    "#### Import necessary modules"
   ]
  },
  {
   "cell_type": "code",
   "execution_count": 50,
   "metadata": {},
   "outputs": [],
   "source": [
    "%matplotlib inline\n",
    "import matplotlib\n",
    "import matplotlib.pyplot as plt\n",
    "\n",
    "import boto3\n",
    "import math\n",
    "import numpy as np\n",
    "import pandas as pd\n",
    "from sagemaker import get_execution_role\n",
    "from sagemaker.estimator import Estimator\n",
    "import seaborn as sns; sns.set()\n",
    "from time import sleep"
   ]
  },
  {
   "cell_type": "markdown",
   "metadata": {},
   "source": [
    "## Get the necessary account information"
   ]
  },
  {
   "cell_type": "code",
   "execution_count": 2,
   "metadata": {
    "scrolled": true
   },
   "outputs": [
    {
     "name": "stdout",
     "output_type": "stream",
     "text": [
      "031118886020.dkr.ecr.us-east-1.amazonaws.com/sagemaker-tennis-cpu:latest\n",
      "031118886020.dkr.ecr.us-east-1.amazonaws.com/sagemaker-tennis-gpu:latest\n"
     ]
    }
   ],
   "source": [
    "role = get_execution_role()\n",
    "account = boto3.client('sts').get_caller_identity()['Account']\n",
    "region = boto3.Session().region_name\n",
    "image_names = {}\n",
    "for t in ['cpu', 'gpu']:\n",
    "    image_names[t] = '{}.dkr.ecr.{}.amazonaws.com/sagemaker-tennis-{}:latest'.format(account, region, t)\n",
    "    print(image_names[t])"
   ]
  },
  {
   "cell_type": "markdown",
   "metadata": {},
   "source": [
    "#### Set for local parameters\n",
    "Note prices are in $/hour and are from [here](https://aws.amazon.com/sagemaker/pricing/)."
   ]
  },
  {
   "cell_type": "code",
   "execution_count": 5,
   "metadata": {},
   "outputs": [
    {
     "data": {
      "text/html": [
       "<div>\n",
       "<style scoped>\n",
       "    .dataframe tbody tr th:only-of-type {\n",
       "        vertical-align: middle;\n",
       "    }\n",
       "\n",
       "    .dataframe tbody tr th {\n",
       "        vertical-align: top;\n",
       "    }\n",
       "\n",
       "    .dataframe thead th {\n",
       "        text-align: right;\n",
       "    }\n",
       "</style>\n",
       "<table border=\"1\" class=\"dataframe\">\n",
       "  <thead>\n",
       "    <tr style=\"text-align: right;\">\n",
       "      <th></th>\n",
       "      <th>price</th>\n",
       "      <th>type</th>\n",
       "      <th>job_name</th>\n",
       "      <th>time</th>\n",
       "    </tr>\n",
       "  </thead>\n",
       "  <tbody>\n",
       "    <tr>\n",
       "      <th>ml.m5.large</th>\n",
       "      <td>0.134</td>\n",
       "      <td>cpu</td>\n",
       "      <td></td>\n",
       "      <td>NaN</td>\n",
       "    </tr>\n",
       "    <tr>\n",
       "      <th>ml.m5.xlarge</th>\n",
       "      <td>0.269</td>\n",
       "      <td>cpu</td>\n",
       "      <td></td>\n",
       "      <td>NaN</td>\n",
       "    </tr>\n",
       "    <tr>\n",
       "      <th>ml.m5.2xlarge</th>\n",
       "      <td>0.538</td>\n",
       "      <td>cpu</td>\n",
       "      <td></td>\n",
       "      <td>NaN</td>\n",
       "    </tr>\n",
       "    <tr>\n",
       "      <th>ml.m4.xlarge</th>\n",
       "      <td>0.280</td>\n",
       "      <td>cpu</td>\n",
       "      <td></td>\n",
       "      <td>NaN</td>\n",
       "    </tr>\n",
       "    <tr>\n",
       "      <th>ml.m4.2xlarge</th>\n",
       "      <td>0.560</td>\n",
       "      <td>cpu</td>\n",
       "      <td></td>\n",
       "      <td>NaN</td>\n",
       "    </tr>\n",
       "    <tr>\n",
       "      <th>ml.c5.xlarge</th>\n",
       "      <td>0.238</td>\n",
       "      <td>cpu</td>\n",
       "      <td></td>\n",
       "      <td>NaN</td>\n",
       "    </tr>\n",
       "    <tr>\n",
       "      <th>ml.c5.2xlarge</th>\n",
       "      <td>0.476</td>\n",
       "      <td>cpu</td>\n",
       "      <td></td>\n",
       "      <td>NaN</td>\n",
       "    </tr>\n",
       "    <tr>\n",
       "      <th>ml.c5n.xlarge</th>\n",
       "      <td>0.302</td>\n",
       "      <td>cpu</td>\n",
       "      <td></td>\n",
       "      <td>NaN</td>\n",
       "    </tr>\n",
       "    <tr>\n",
       "      <th>ml.c5n.2xlarge</th>\n",
       "      <td>0.605</td>\n",
       "      <td>cpu</td>\n",
       "      <td></td>\n",
       "      <td>NaN</td>\n",
       "    </tr>\n",
       "    <tr>\n",
       "      <th>ml.c4.xlarge</th>\n",
       "      <td>0.279</td>\n",
       "      <td>cpu</td>\n",
       "      <td></td>\n",
       "      <td>NaN</td>\n",
       "    </tr>\n",
       "    <tr>\n",
       "      <th>ml.c4.2xlarge</th>\n",
       "      <td>0.557</td>\n",
       "      <td>cpu</td>\n",
       "      <td></td>\n",
       "      <td>NaN</td>\n",
       "    </tr>\n",
       "    <tr>\n",
       "      <th>ml.p2.xlarge</th>\n",
       "      <td>1.260</td>\n",
       "      <td>gpu</td>\n",
       "      <td></td>\n",
       "      <td>NaN</td>\n",
       "    </tr>\n",
       "    <tr>\n",
       "      <th>ml.p3.2xlarge</th>\n",
       "      <td>4.284</td>\n",
       "      <td>gpu</td>\n",
       "      <td></td>\n",
       "      <td>NaN</td>\n",
       "    </tr>\n",
       "    <tr>\n",
       "      <th>ml.g4dn.xlarge</th>\n",
       "      <td>0.736</td>\n",
       "      <td>gpu</td>\n",
       "      <td></td>\n",
       "      <td>NaN</td>\n",
       "    </tr>\n",
       "    <tr>\n",
       "      <th>ml.g4dn.2xlarge</th>\n",
       "      <td>1.053</td>\n",
       "      <td>gpu</td>\n",
       "      <td></td>\n",
       "      <td>NaN</td>\n",
       "    </tr>\n",
       "  </tbody>\n",
       "</table>\n",
       "</div>"
      ],
      "text/plain": [
       "                 price type job_name  time\n",
       "ml.m5.large      0.134  cpu            NaN\n",
       "ml.m5.xlarge     0.269  cpu            NaN\n",
       "ml.m5.2xlarge    0.538  cpu            NaN\n",
       "ml.m4.xlarge     0.280  cpu            NaN\n",
       "ml.m4.2xlarge    0.560  cpu            NaN\n",
       "ml.c5.xlarge     0.238  cpu            NaN\n",
       "ml.c5.2xlarge    0.476  cpu            NaN\n",
       "ml.c5n.xlarge    0.302  cpu            NaN\n",
       "ml.c5n.2xlarge   0.605  cpu            NaN\n",
       "ml.c4.xlarge     0.279  cpu            NaN\n",
       "ml.c4.2xlarge    0.557  cpu            NaN\n",
       "ml.p2.xlarge     1.260  gpu            NaN\n",
       "ml.p3.2xlarge    4.284  gpu            NaN\n",
       "ml.g4dn.xlarge   0.736  gpu            NaN\n",
       "ml.g4dn.2xlarge  1.053  gpu            NaN"
      ]
     },
     "execution_count": 5,
     "metadata": {},
     "output_type": "execute_result"
    }
   ],
   "source": [
    "n_epochs = 3000\n",
    "n_instances = 1\n",
    "\n",
    "c = {'ml.m5.large': 0.134, \n",
    "     'ml.m5.xlarge': 0.269, \n",
    "     'ml.m5.2xlarge': 0.538,\n",
    "     'ml.m4.xlarge': 0.28, \n",
    "     'ml.m4.2xlarge': 0.56,\n",
    "     'ml.c5.xlarge': 0.238, \n",
    "     'ml.c5.2xlarge': 0.476,\n",
    "     'ml.c5n.xlarge': 0.302, \n",
    "     'ml.c5n.2xlarge': 0.605,\n",
    "     'ml.c4.xlarge': 0.279, \n",
    "     'ml.c4.2xlarge': 0.557}\n",
    "c = pd.DataFrame(index=c.keys(), columns=['price'], data=c.values())\n",
    "c['type'] = 'cpu'\n",
    "\n",
    "g = {'ml.p2.xlarge': 1.26, \n",
    "     'ml.g4dn.xlarge': 0.736, \n",
    "     'ml.g4dn.2xlarge': 1.053}\n",
    "g = pd.DataFrame(index=g.keys(), columns=['price'], data=g.values())\n",
    "g['type'] = 'gpu'\n",
    "\n",
    "results = pd.concat([c, g])\n",
    "results['job_name'] = ''\n",
    "results['time'] = np.nan\n",
    "del c, g\n",
    "results"
   ]
  },
  {
   "cell_type": "markdown",
   "metadata": {},
   "source": [
    "### Please verify that the prices above haven't changed!!!\n",
    "You may also want to add newly added instances."
   ]
  },
  {
   "cell_type": "markdown",
   "metadata": {},
   "source": [
    "## Run Sensitivity"
   ]
  },
  {
   "cell_type": "markdown",
   "metadata": {},
   "source": [
    "#### Submit all the jobs"
   ]
  },
  {
   "cell_type": "code",
   "execution_count": 6,
   "metadata": {},
   "outputs": [],
   "source": [
    "for i in results.index.tolist():\n",
    "    estimator = Estimator(role=role,\n",
    "                      train_instance_count=n_instances,\n",
    "                      train_instance_type=i,\n",
    "                      image_name=image_names[results.loc[i, 'type']],\n",
    "                      hyperparameters={'epochs': n_epochs})\n",
    "    estimator.fit(wait=False)\n",
    "    results.loc[i, 'job_name'] = estimator._current_job_name"
   ]
  },
  {
   "cell_type": "markdown",
   "metadata": {},
   "source": [
    "#### Wait for the jobs to complete and compile billable times\n",
    "Note times are in seconds but prices in $/hour."
   ]
  },
  {
   "cell_type": "code",
   "execution_count": 9,
   "metadata": {},
   "outputs": [
    {
     "name": "stdout",
     "output_type": "stream",
     "text": [
      "ml.m5.large complete.\n",
      "ml.m5.xlarge complete.\n",
      "ml.m5.2xlarge complete.\n",
      "ml.m4.xlarge complete.\n",
      "ml.m4.2xlarge complete.\n",
      "ml.c5.xlarge complete.\n",
      "ml.c5.2xlarge complete.\n",
      "ml.c5n.xlarge complete.\n",
      "ml.c5n.2xlarge complete.\n",
      "ml.c4.xlarge complete.\n",
      "ml.c4.2xlarge complete.\n",
      "ml.p2.xlarge complete.\n",
      "ml.p3.2xlarge complete.\n",
      "ml.g4dn.xlarge complete.\n",
      "ml.g4dn.2xlarge complete.\n"
     ]
    }
   ],
   "source": [
    "client = boto3.client('sagemaker')\n",
    "for i in results.index.tolist():\n",
    "    while True:\n",
    "        info = client.describe_training_job(TrainingJobName=results.loc[i, 'job_name'])\n",
    "        if info['TrainingJobStatus'] == 'Completed':\n",
    "            results.loc[i, 'time'] = info['BillableTimeInSeconds']\n",
    "            print('{} complete.'.format(i))\n",
    "            break\n",
    "        elif info['TrainingJobStatus'] == 'Failed':\n",
    "            print('ERROR:  {}, {} failed!!!'.format(i, results.loc[i, 'job_name']))\n",
    "            break\n",
    "        else:\n",
    "            sleep(60)    "
   ]
  },
  {
   "cell_type": "markdown",
   "metadata": {},
   "source": [
    "#### Compile the job info\n",
    "Note the cost is in cents, time in seconds and price in $/hour.  \n",
    "3600 converts seconds to hours and 100 converts $ to cents.\n"
   ]
  },
  {
   "cell_type": "code",
   "execution_count": 41,
   "metadata": {},
   "outputs": [
    {
     "data": {
      "text/html": [
       "<div>\n",
       "<style scoped>\n",
       "    .dataframe tbody tr th:only-of-type {\n",
       "        vertical-align: middle;\n",
       "    }\n",
       "\n",
       "    .dataframe tbody tr th {\n",
       "        vertical-align: top;\n",
       "    }\n",
       "\n",
       "    .dataframe thead th {\n",
       "        text-align: right;\n",
       "    }\n",
       "</style>\n",
       "<table border=\"1\" class=\"dataframe\">\n",
       "  <thead>\n",
       "    <tr style=\"text-align: right;\">\n",
       "      <th></th>\n",
       "      <th>price</th>\n",
       "      <th>type</th>\n",
       "      <th>job_name</th>\n",
       "      <th>time</th>\n",
       "      <th>cost</th>\n",
       "      <th>eff</th>\n",
       "    </tr>\n",
       "  </thead>\n",
       "  <tbody>\n",
       "    <tr>\n",
       "      <th>ml.m5.large</th>\n",
       "      <td>0.134</td>\n",
       "      <td>cpu</td>\n",
       "      <td>sagemaker-tennis-cpu-2020-07-03-14-40-36-769</td>\n",
       "      <td>147.0</td>\n",
       "      <td>0.547167</td>\n",
       "      <td>80.433500</td>\n",
       "    </tr>\n",
       "    <tr>\n",
       "      <th>ml.m5.xlarge</th>\n",
       "      <td>0.269</td>\n",
       "      <td>cpu</td>\n",
       "      <td>sagemaker-tennis-cpu-2020-07-03-14-40-37-299</td>\n",
       "      <td>139.0</td>\n",
       "      <td>1.038639</td>\n",
       "      <td>144.370806</td>\n",
       "    </tr>\n",
       "    <tr>\n",
       "      <th>ml.m5.2xlarge</th>\n",
       "      <td>0.538</td>\n",
       "      <td>cpu</td>\n",
       "      <td>sagemaker-tennis-cpu-2020-07-03-14-40-37-631</td>\n",
       "      <td>135.0</td>\n",
       "      <td>2.017500</td>\n",
       "      <td>272.362500</td>\n",
       "    </tr>\n",
       "    <tr>\n",
       "      <th>ml.m4.xlarge</th>\n",
       "      <td>0.280</td>\n",
       "      <td>cpu</td>\n",
       "      <td>sagemaker-tennis-cpu-2020-07-03-14-40-45-846</td>\n",
       "      <td>179.0</td>\n",
       "      <td>1.392222</td>\n",
       "      <td>249.207778</td>\n",
       "    </tr>\n",
       "    <tr>\n",
       "      <th>ml.m4.2xlarge</th>\n",
       "      <td>0.560</td>\n",
       "      <td>cpu</td>\n",
       "      <td>sagemaker-tennis-cpu-2020-07-03-14-40-46-387</td>\n",
       "      <td>157.0</td>\n",
       "      <td>2.442222</td>\n",
       "      <td>383.428889</td>\n",
       "    </tr>\n",
       "    <tr>\n",
       "      <th>ml.c5.xlarge</th>\n",
       "      <td>0.238</td>\n",
       "      <td>cpu</td>\n",
       "      <td>sagemaker-tennis-cpu-2020-07-03-14-40-47-070</td>\n",
       "      <td>125.0</td>\n",
       "      <td>0.826389</td>\n",
       "      <td>103.298611</td>\n",
       "    </tr>\n",
       "    <tr>\n",
       "      <th>ml.c5.2xlarge</th>\n",
       "      <td>0.476</td>\n",
       "      <td>cpu</td>\n",
       "      <td>sagemaker-tennis-cpu-2020-07-03-14-40-47-514</td>\n",
       "      <td>131.0</td>\n",
       "      <td>1.732111</td>\n",
       "      <td>226.906556</td>\n",
       "    </tr>\n",
       "    <tr>\n",
       "      <th>ml.c5n.xlarge</th>\n",
       "      <td>0.302</td>\n",
       "      <td>cpu</td>\n",
       "      <td>sagemaker-tennis-cpu-2020-07-03-14-40-47-855</td>\n",
       "      <td>132.0</td>\n",
       "      <td>1.107333</td>\n",
       "      <td>146.168000</td>\n",
       "    </tr>\n",
       "    <tr>\n",
       "      <th>ml.c5n.2xlarge</th>\n",
       "      <td>0.605</td>\n",
       "      <td>cpu</td>\n",
       "      <td>sagemaker-tennis-cpu-2020-07-03-14-40-51-957</td>\n",
       "      <td>130.0</td>\n",
       "      <td>2.184722</td>\n",
       "      <td>284.013889</td>\n",
       "    </tr>\n",
       "    <tr>\n",
       "      <th>ml.c4.xlarge</th>\n",
       "      <td>0.279</td>\n",
       "      <td>cpu</td>\n",
       "      <td>sagemaker-tennis-cpu-2020-07-03-14-40-52-332</td>\n",
       "      <td>153.0</td>\n",
       "      <td>1.185750</td>\n",
       "      <td>181.419750</td>\n",
       "    </tr>\n",
       "    <tr>\n",
       "      <th>ml.c4.2xlarge</th>\n",
       "      <td>0.557</td>\n",
       "      <td>cpu</td>\n",
       "      <td>sagemaker-tennis-cpu-2020-07-03-14-40-56-157</td>\n",
       "      <td>149.0</td>\n",
       "      <td>2.305361</td>\n",
       "      <td>343.498806</td>\n",
       "    </tr>\n",
       "    <tr>\n",
       "      <th>ml.p2.xlarge</th>\n",
       "      <td>1.260</td>\n",
       "      <td>gpu</td>\n",
       "      <td>sagemaker-tennis-gpu-2020-07-03-14-40-56-964</td>\n",
       "      <td>237.0</td>\n",
       "      <td>8.295000</td>\n",
       "      <td>1965.915000</td>\n",
       "    </tr>\n",
       "    <tr>\n",
       "      <th>ml.g4dn.xlarge</th>\n",
       "      <td>0.736</td>\n",
       "      <td>gpu</td>\n",
       "      <td>sagemaker-tennis-gpu-2020-07-03-14-41-00-290</td>\n",
       "      <td>185.0</td>\n",
       "      <td>3.782222</td>\n",
       "      <td>699.711111</td>\n",
       "    </tr>\n",
       "    <tr>\n",
       "      <th>ml.g4dn.2xlarge</th>\n",
       "      <td>1.053</td>\n",
       "      <td>gpu</td>\n",
       "      <td>sagemaker-tennis-gpu-2020-07-03-14-41-03-257</td>\n",
       "      <td>169.0</td>\n",
       "      <td>4.943250</td>\n",
       "      <td>835.409250</td>\n",
       "    </tr>\n",
       "  </tbody>\n",
       "</table>\n",
       "</div>"
      ],
      "text/plain": [
       "                 price type                                      job_name  \\\n",
       "ml.m5.large      0.134  cpu  sagemaker-tennis-cpu-2020-07-03-14-40-36-769   \n",
       "ml.m5.xlarge     0.269  cpu  sagemaker-tennis-cpu-2020-07-03-14-40-37-299   \n",
       "ml.m5.2xlarge    0.538  cpu  sagemaker-tennis-cpu-2020-07-03-14-40-37-631   \n",
       "ml.m4.xlarge     0.280  cpu  sagemaker-tennis-cpu-2020-07-03-14-40-45-846   \n",
       "ml.m4.2xlarge    0.560  cpu  sagemaker-tennis-cpu-2020-07-03-14-40-46-387   \n",
       "ml.c5.xlarge     0.238  cpu  sagemaker-tennis-cpu-2020-07-03-14-40-47-070   \n",
       "ml.c5.2xlarge    0.476  cpu  sagemaker-tennis-cpu-2020-07-03-14-40-47-514   \n",
       "ml.c5n.xlarge    0.302  cpu  sagemaker-tennis-cpu-2020-07-03-14-40-47-855   \n",
       "ml.c5n.2xlarge   0.605  cpu  sagemaker-tennis-cpu-2020-07-03-14-40-51-957   \n",
       "ml.c4.xlarge     0.279  cpu  sagemaker-tennis-cpu-2020-07-03-14-40-52-332   \n",
       "ml.c4.2xlarge    0.557  cpu  sagemaker-tennis-cpu-2020-07-03-14-40-56-157   \n",
       "ml.p2.xlarge     1.260  gpu  sagemaker-tennis-gpu-2020-07-03-14-40-56-964   \n",
       "ml.g4dn.xlarge   0.736  gpu  sagemaker-tennis-gpu-2020-07-03-14-41-00-290   \n",
       "ml.g4dn.2xlarge  1.053  gpu  sagemaker-tennis-gpu-2020-07-03-14-41-03-257   \n",
       "\n",
       "                  time      cost          eff  \n",
       "ml.m5.large      147.0  0.547167    80.433500  \n",
       "ml.m5.xlarge     139.0  1.038639   144.370806  \n",
       "ml.m5.2xlarge    135.0  2.017500   272.362500  \n",
       "ml.m4.xlarge     179.0  1.392222   249.207778  \n",
       "ml.m4.2xlarge    157.0  2.442222   383.428889  \n",
       "ml.c5.xlarge     125.0  0.826389   103.298611  \n",
       "ml.c5.2xlarge    131.0  1.732111   226.906556  \n",
       "ml.c5n.xlarge    132.0  1.107333   146.168000  \n",
       "ml.c5n.2xlarge   130.0  2.184722   284.013889  \n",
       "ml.c4.xlarge     153.0  1.185750   181.419750  \n",
       "ml.c4.2xlarge    149.0  2.305361   343.498806  \n",
       "ml.p2.xlarge     237.0  8.295000  1965.915000  \n",
       "ml.g4dn.xlarge   185.0  3.782222   699.711111  \n",
       "ml.g4dn.2xlarge  169.0  4.943250   835.409250  "
      ]
     },
     "execution_count": 41,
     "metadata": {},
     "output_type": "execute_result"
    }
   ],
   "source": [
    "results['cost'] = results['price'] * results['time'] / 3600 * 100\n",
    "results['eff'] = results['cost'] * results['time']\n",
    "results.to_csv('results.csv')\n",
    "results\n"
   ]
  },
  {
   "cell_type": "markdown",
   "metadata": {},
   "source": [
    "#### Make a pretty plot "
   ]
  },
  {
   "cell_type": "code",
   "execution_count": 42,
   "metadata": {},
   "outputs": [
    {
     "data": {
      "image/png": "[encoded data removed]",
      "text/plain": [
       "<Figure size 432x288 with 1 Axes>"
      ]
     },
     "metadata": {},
     "output_type": "display_data"
    }
   ],
   "source": [
    "import matplotlib.cm as cm\n",
    "import matplotlib.colors as colors\n",
    "\n",
    "colormap = cm.viridis\n",
    "colorlist = [colors.rgb2hex(colormap(i)) for i in np.linspace(0, 0.9, results.shape[0])]\n",
    "\n",
    "markers = ['o', 'v', '^', '<', '>', 's', \n",
    "           '*', 'X', 'P', 'D'] * math.ceil(results.shape[0]/10)\n",
    "\n",
    "fig, ax = plt.subplots()\n",
    "for i, name in enumerate(results.index.tolist()):\n",
    "    ax.scatter(results.loc[name, 'time'], results.loc[name, 'cost'], label=name, s=50, \n",
    "               linewidth=0.1, c=colorlist[i], marker=markers[i])\n",
    "ax.legend(bbox_to_anchor=(1,1))\n",
    "\n",
    "# ax = results.plot.scatter(x='time', y='cost', c='blue')\n",
    "_ = ax.set(xlabel=\"Time in Seconds\", ylabel=\"Cost in Cents\")\n",
    "plt.show()"
   ]
  },
  {
   "cell_type": "markdown",
   "metadata": {},
   "source": [
    "# Conclusion"
   ]
  },
  {
   "cell_type": "code",
   "execution_count": 49,
   "metadata": {},
   "outputs": [
    {
     "name": "stdout",
     "output_type": "stream",
     "text": [
      "ml.m5.large is the cheapest instance type; 2.5 min and $0.005.\n",
      "ml.c5.xlarge is the fastest instance type; 2.1 min and $0.008.\n",
      "ml.m5.large is the most efficient instance type; 2.5 min and $0.005.\n"
     ]
    }
   ],
   "source": [
    "for n, t in zip([results.price.idxmin(), results.time.idxmin(), results.eff.idxmin()],\n",
    "                ['cheapest', 'fastest', 'most efficient']):\n",
    "    print(\"{} is the {} instance type; {:.1f} min and ${:.3f}.\".format(n, t, \n",
    "                                                                    results.loc[n, 'time']/60,\n",
    "                                                                    results.loc[n, 'cost']/100))\n"
   ]
  },
  {
   "cell_type": "markdown",
   "metadata": {},
   "source": [
    "# Reference\n",
    "- [SageMaker Instance types](https://aws.amazon.com/sagemaker/pricing/instance-types/)\n",
    "- [SageMaker Instance prices](https://aws.amazon.com/sagemaker/pricing/)\n",
    "- [SageMaker Estimator SDK](https://sagemaker.readthedocs.io/en/stable/api/training/estimators.html)"
   ]
  },
  {
   "cell_type": "code",
   "execution_count": null,
   "metadata": {},
   "outputs": [],
   "source": []
  }
 ],
 "metadata": {
  "kernelspec": {
   "display_name": "conda_pytorch_p36",
   "language": "python",
   "name": "conda_pytorch_p36"
  },
  "language_info": {
   "codemirror_mode": {
    "name": "ipython",
    "version": 3
   },
   "file_extension": ".py",
   "mimetype": "text/x-python",
   "name": "python",
   "nbconvert_exporter": "python",
   "pygments_lexer": "ipython3",
   "version": "3.6.5"
  }
 },
 "nbformat": 4,
 "nbformat_minor": 2
}
