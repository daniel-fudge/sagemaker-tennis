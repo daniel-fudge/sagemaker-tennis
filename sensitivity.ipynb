{
 "cells": [
  {
   "cell_type": "markdown",
   "metadata": {},
   "source": [
    "# Compare Price and Speed\n",
    "\n",
    "This notebook runs 200 epochs on a number of CPU and GPU instance types.  This information will then be used to select the best instance type for the [hyper-parameter tunning](tuning.ipynb)."
   ]
  },
  {
   "cell_type": "markdown",
   "metadata": {},
   "source": [
    "#### Import necessary modules"
   ]
  },
  {
   "cell_type": "code",
   "execution_count": 1,
   "metadata": {},
   "outputs": [],
   "source": [
    "%matplotlib inline\n",
    "import matplotlib\n",
    "import matplotlib.pyplot as plt\n",
    "\n",
    "import boto3\n",
    "import math\n",
    "import numpy as np\n",
    "import pandas as pd\n",
    "from sagemaker import get_execution_role\n",
    "from sagemaker.estimator import Estimator\n",
    "import seaborn as sns; sns.set()\n",
    "from time import sleep"
   ]
  },
  {
   "cell_type": "markdown",
   "metadata": {},
   "source": [
    "## Get the necessary account information"
   ]
  },
  {
   "cell_type": "code",
   "execution_count": 2,
   "metadata": {
    "scrolled": true
   },
   "outputs": [
    {
     "name": "stdout",
     "output_type": "stream",
     "text": [
      "031118886020.dkr.ecr.us-east-1.amazonaws.com/sagemaker-tennis-cpu:latest\n",
      "031118886020.dkr.ecr.us-east-1.amazonaws.com/sagemaker-tennis-gpu:latest\n"
     ]
    }
   ],
   "source": [
    "role = get_execution_role()\n",
    "account = boto3.client('sts').get_caller_identity()['Account']\n",
    "region = boto3.Session().region_name\n",
    "image_names = {}\n",
    "for t in ['cpu', 'gpu']:\n",
    "    image_names[t] = '{}.dkr.ecr.{}.amazonaws.com/sagemaker-tennis-{}:latest'.format(account, region, t)\n",
    "    print(image_names[t])"
   ]
  },
  {
   "cell_type": "markdown",
   "metadata": {},
   "source": [
    "#### Set for local parameters\n",
    "Note prices are in $/hour and are from [here](https://aws.amazon.com/sagemaker/pricing/)."
   ]
  },
  {
   "cell_type": "code",
   "execution_count": 3,
   "metadata": {},
   "outputs": [
    {
     "data": {
      "text/html": [
       "<div>\n",
       "<style scoped>\n",
       "    .dataframe tbody tr th:only-of-type {\n",
       "        vertical-align: middle;\n",
       "    }\n",
       "\n",
       "    .dataframe tbody tr th {\n",
       "        vertical-align: top;\n",
       "    }\n",
       "\n",
       "    .dataframe thead th {\n",
       "        text-align: right;\n",
       "    }\n",
       "</style>\n",
       "<table border=\"1\" class=\"dataframe\">\n",
       "  <thead>\n",
       "    <tr style=\"text-align: right;\">\n",
       "      <th></th>\n",
       "      <th>price</th>\n",
       "      <th>type</th>\n",
       "      <th>job_name</th>\n",
       "      <th>time</th>\n",
       "    </tr>\n",
       "  </thead>\n",
       "  <tbody>\n",
       "    <tr>\n",
       "      <th>ml.m5.large</th>\n",
       "      <td>0.134</td>\n",
       "      <td>cpu</td>\n",
       "      <td></td>\n",
       "      <td>NaN</td>\n",
       "    </tr>\n",
       "    <tr>\n",
       "      <th>ml.m5.xlarge</th>\n",
       "      <td>0.269</td>\n",
       "      <td>cpu</td>\n",
       "      <td></td>\n",
       "      <td>NaN</td>\n",
       "    </tr>\n",
       "    <tr>\n",
       "      <th>ml.m5.2xlarge</th>\n",
       "      <td>0.538</td>\n",
       "      <td>cpu</td>\n",
       "      <td></td>\n",
       "      <td>NaN</td>\n",
       "    </tr>\n",
       "    <tr>\n",
       "      <th>ml.m4.xlarge</th>\n",
       "      <td>0.280</td>\n",
       "      <td>cpu</td>\n",
       "      <td></td>\n",
       "      <td>NaN</td>\n",
       "    </tr>\n",
       "    <tr>\n",
       "      <th>ml.m4.2xlarge</th>\n",
       "      <td>0.560</td>\n",
       "      <td>cpu</td>\n",
       "      <td></td>\n",
       "      <td>NaN</td>\n",
       "    </tr>\n",
       "    <tr>\n",
       "      <th>ml.c5.xlarge</th>\n",
       "      <td>0.238</td>\n",
       "      <td>cpu</td>\n",
       "      <td></td>\n",
       "      <td>NaN</td>\n",
       "    </tr>\n",
       "    <tr>\n",
       "      <th>ml.c5.2xlarge</th>\n",
       "      <td>0.476</td>\n",
       "      <td>cpu</td>\n",
       "      <td></td>\n",
       "      <td>NaN</td>\n",
       "    </tr>\n",
       "    <tr>\n",
       "      <th>ml.c5n.xlarge</th>\n",
       "      <td>0.302</td>\n",
       "      <td>cpu</td>\n",
       "      <td></td>\n",
       "      <td>NaN</td>\n",
       "    </tr>\n",
       "    <tr>\n",
       "      <th>ml.c5n.2xlarge</th>\n",
       "      <td>0.605</td>\n",
       "      <td>cpu</td>\n",
       "      <td></td>\n",
       "      <td>NaN</td>\n",
       "    </tr>\n",
       "    <tr>\n",
       "      <th>ml.c4.xlarge</th>\n",
       "      <td>0.279</td>\n",
       "      <td>cpu</td>\n",
       "      <td></td>\n",
       "      <td>NaN</td>\n",
       "    </tr>\n",
       "    <tr>\n",
       "      <th>ml.c4.2xlarge</th>\n",
       "      <td>0.557</td>\n",
       "      <td>cpu</td>\n",
       "      <td></td>\n",
       "      <td>NaN</td>\n",
       "    </tr>\n",
       "    <tr>\n",
       "      <th>ml.p2.xlarge</th>\n",
       "      <td>1.260</td>\n",
       "      <td>gpu</td>\n",
       "      <td></td>\n",
       "      <td>NaN</td>\n",
       "    </tr>\n",
       "    <tr>\n",
       "      <th>ml.g4dn.xlarge</th>\n",
       "      <td>0.736</td>\n",
       "      <td>gpu</td>\n",
       "      <td></td>\n",
       "      <td>NaN</td>\n",
       "    </tr>\n",
       "    <tr>\n",
       "      <th>ml.g4dn.2xlarge</th>\n",
       "      <td>1.053</td>\n",
       "      <td>gpu</td>\n",
       "      <td></td>\n",
       "      <td>NaN</td>\n",
       "    </tr>\n",
       "  </tbody>\n",
       "</table>\n",
       "</div>"
      ],
      "text/plain": [
       "                 price type job_name  time\n",
       "ml.m5.large      0.134  cpu            NaN\n",
       "ml.m5.xlarge     0.269  cpu            NaN\n",
       "ml.m5.2xlarge    0.538  cpu            NaN\n",
       "ml.m4.xlarge     0.280  cpu            NaN\n",
       "ml.m4.2xlarge    0.560  cpu            NaN\n",
       "ml.c5.xlarge     0.238  cpu            NaN\n",
       "ml.c5.2xlarge    0.476  cpu            NaN\n",
       "ml.c5n.xlarge    0.302  cpu            NaN\n",
       "ml.c5n.2xlarge   0.605  cpu            NaN\n",
       "ml.c4.xlarge     0.279  cpu            NaN\n",
       "ml.c4.2xlarge    0.557  cpu            NaN\n",
       "ml.p2.xlarge     1.260  gpu            NaN\n",
       "ml.g4dn.xlarge   0.736  gpu            NaN\n",
       "ml.g4dn.2xlarge  1.053  gpu            NaN"
      ]
     },
     "execution_count": 3,
     "metadata": {},
     "output_type": "execute_result"
    }
   ],
   "source": [
    "n_epochs = 1000\n",
    "n_instances = 1\n",
    "\n",
    "c = {'ml.m5.large': 0.134, \n",
    "     'ml.m5.xlarge': 0.269, \n",
    "     'ml.m5.2xlarge': 0.538,\n",
    "     'ml.m4.xlarge': 0.28, \n",
    "     'ml.m4.2xlarge': 0.56,\n",
    "     'ml.c5.xlarge': 0.238, \n",
    "     'ml.c5.2xlarge': 0.476,\n",
    "     'ml.c5n.xlarge': 0.302, \n",
    "     'ml.c5n.2xlarge': 0.605,\n",
    "     'ml.c4.xlarge': 0.279, \n",
    "     'ml.c4.2xlarge': 0.557}\n",
    "c = pd.DataFrame(index=c.keys(), columns=['price'], data=c.values())\n",
    "c['type'] = 'cpu'\n",
    "\n",
    "g = {'ml.p2.xlarge': 1.26, \n",
    "     'ml.g4dn.xlarge': 0.736, \n",
    "     'ml.g4dn.2xlarge': 1.053}\n",
    "g = pd.DataFrame(index=g.keys(), columns=['price'], data=g.values())\n",
    "g['type'] = 'gpu'\n",
    "\n",
    "results = pd.concat([c, g])\n",
    "results['job_name'] = ''\n",
    "results['time'] = np.nan\n",
    "del c, g\n",
    "results"
   ]
  },
  {
   "cell_type": "markdown",
   "metadata": {},
   "source": [
    "### Please verify that the prices above haven't changed!!!\n",
    "You may also want to add newly added instances."
   ]
  },
  {
   "cell_type": "markdown",
   "metadata": {},
   "source": [
    "## Run Sensitivity"
   ]
  },
  {
   "cell_type": "markdown",
   "metadata": {},
   "source": [
    "#### Submit all the jobs"
   ]
  },
  {
   "cell_type": "code",
   "execution_count": 4,
   "metadata": {},
   "outputs": [],
   "source": [
    "for i in results.index.tolist():\n",
    "    estimator = Estimator(role=role,\n",
    "                      train_instance_count=n_instances,\n",
    "                      train_instance_type=i,\n",
    "                      image_name=image_names[results.loc[i, 'type']],\n",
    "                      hyperparameters={'epochs': n_epochs})\n",
    "    estimator.fit(wait=False)\n",
    "    results.loc[i, 'job_name'] = estimator._current_job_name"
   ]
  },
  {
   "cell_type": "markdown",
   "metadata": {},
   "source": [
    "#### Wait for the jobs to complete and compile billable times\n",
    "Note times are in seconds but prices in $/hour."
   ]
  },
  {
   "cell_type": "code",
   "execution_count": 5,
   "metadata": {},
   "outputs": [
    {
     "name": "stdout",
     "output_type": "stream",
     "text": [
      "ml.m5.large complete.\n",
      "ml.m5.xlarge complete.\n",
      "ml.m5.2xlarge complete.\n",
      "ml.m4.xlarge complete.\n",
      "ml.m4.2xlarge complete.\n",
      "ml.c5.xlarge complete.\n",
      "ml.c5.2xlarge complete.\n",
      "ml.c5n.xlarge complete.\n",
      "ml.c5n.2xlarge complete.\n",
      "ml.c4.xlarge complete.\n",
      "ml.c4.2xlarge complete.\n",
      "ml.p2.xlarge complete.\n",
      "ml.g4dn.xlarge complete.\n",
      "ml.g4dn.2xlarge complete.\n"
     ]
    }
   ],
   "source": [
    "client = boto3.client('sagemaker')\n",
    "for i in results.index.tolist():\n",
    "    while True:\n",
    "        info = client.describe_training_job(TrainingJobName=results.loc[i, 'job_name'])\n",
    "        if info['TrainingJobStatus'] == 'Completed':\n",
    "            results.loc[i, 'time'] = info['BillableTimeInSeconds']\n",
    "            print('{} complete.'.format(i))\n",
    "            break\n",
    "        elif info['TrainingJobStatus'] == 'Failed':\n",
    "            print('ERROR:  {}, {} failed!!!'.format(i, results.loc[i, 'job_name']))\n",
    "            break\n",
    "        else:\n",
    "            sleep(60)    "
   ]
  },
  {
   "cell_type": "markdown",
   "metadata": {},
   "source": [
    "#### Compile the job info\n",
    "Note the cost is in cents, time in seconds and price in \\\\$ per hour.  \n",
    "3600 converts seconds to hours and 100 converts \\\\$ to cents.\n"
   ]
  },
  {
   "cell_type": "code",
   "execution_count": 6,
   "metadata": {},
   "outputs": [
    {
     "data": {
      "text/html": [
       "<div>\n",
       "<style scoped>\n",
       "    .dataframe tbody tr th:only-of-type {\n",
       "        vertical-align: middle;\n",
       "    }\n",
       "\n",
       "    .dataframe tbody tr th {\n",
       "        vertical-align: top;\n",
       "    }\n",
       "\n",
       "    .dataframe thead th {\n",
       "        text-align: right;\n",
       "    }\n",
       "</style>\n",
       "<table border=\"1\" class=\"dataframe\">\n",
       "  <thead>\n",
       "    <tr style=\"text-align: right;\">\n",
       "      <th></th>\n",
       "      <th>price</th>\n",
       "      <th>type</th>\n",
       "      <th>job_name</th>\n",
       "      <th>time</th>\n",
       "      <th>cost</th>\n",
       "      <th>eff</th>\n",
       "    </tr>\n",
       "  </thead>\n",
       "  <tbody>\n",
       "    <tr>\n",
       "      <th>ml.m5.large</th>\n",
       "      <td>0.134</td>\n",
       "      <td>cpu</td>\n",
       "      <td>sagemaker-tennis-cpu-2020-07-04-16-59-40-971</td>\n",
       "      <td>865.0</td>\n",
       "      <td>3.219722</td>\n",
       "      <td>2785.059722</td>\n",
       "    </tr>\n",
       "    <tr>\n",
       "      <th>ml.m5.xlarge</th>\n",
       "      <td>0.269</td>\n",
       "      <td>cpu</td>\n",
       "      <td>sagemaker-tennis-cpu-2020-07-04-16-59-41-514</td>\n",
       "      <td>1169.0</td>\n",
       "      <td>8.735028</td>\n",
       "      <td>10211.247472</td>\n",
       "    </tr>\n",
       "    <tr>\n",
       "      <th>ml.m5.2xlarge</th>\n",
       "      <td>0.538</td>\n",
       "      <td>cpu</td>\n",
       "      <td>sagemaker-tennis-cpu-2020-07-04-16-59-42-002</td>\n",
       "      <td>1063.0</td>\n",
       "      <td>15.885944</td>\n",
       "      <td>16886.758944</td>\n",
       "    </tr>\n",
       "    <tr>\n",
       "      <th>ml.m4.xlarge</th>\n",
       "      <td>0.280</td>\n",
       "      <td>cpu</td>\n",
       "      <td>sagemaker-tennis-cpu-2020-07-04-16-59-45-382</td>\n",
       "      <td>1470.0</td>\n",
       "      <td>11.433333</td>\n",
       "      <td>16807.000000</td>\n",
       "    </tr>\n",
       "    <tr>\n",
       "      <th>ml.m4.2xlarge</th>\n",
       "      <td>0.560</td>\n",
       "      <td>cpu</td>\n",
       "      <td>sagemaker-tennis-cpu-2020-07-04-16-59-47-773</td>\n",
       "      <td>996.0</td>\n",
       "      <td>15.493333</td>\n",
       "      <td>15431.360000</td>\n",
       "    </tr>\n",
       "    <tr>\n",
       "      <th>ml.c5.xlarge</th>\n",
       "      <td>0.238</td>\n",
       "      <td>cpu</td>\n",
       "      <td>sagemaker-tennis-cpu-2020-07-04-16-59-48-369</td>\n",
       "      <td>990.0</td>\n",
       "      <td>6.545000</td>\n",
       "      <td>6479.550000</td>\n",
       "    </tr>\n",
       "    <tr>\n",
       "      <th>ml.c5.2xlarge</th>\n",
       "      <td>0.476</td>\n",
       "      <td>cpu</td>\n",
       "      <td>sagemaker-tennis-cpu-2020-07-04-16-59-50-878</td>\n",
       "      <td>972.0</td>\n",
       "      <td>12.852000</td>\n",
       "      <td>12492.144000</td>\n",
       "    </tr>\n",
       "    <tr>\n",
       "      <th>ml.c5n.xlarge</th>\n",
       "      <td>0.302</td>\n",
       "      <td>cpu</td>\n",
       "      <td>sagemaker-tennis-cpu-2020-07-04-16-59-51-760</td>\n",
       "      <td>1056.0</td>\n",
       "      <td>8.858667</td>\n",
       "      <td>9354.752000</td>\n",
       "    </tr>\n",
       "    <tr>\n",
       "      <th>ml.c5n.2xlarge</th>\n",
       "      <td>0.605</td>\n",
       "      <td>cpu</td>\n",
       "      <td>sagemaker-tennis-cpu-2020-07-04-16-59-57-942</td>\n",
       "      <td>900.0</td>\n",
       "      <td>15.125000</td>\n",
       "      <td>13612.500000</td>\n",
       "    </tr>\n",
       "    <tr>\n",
       "      <th>ml.c4.xlarge</th>\n",
       "      <td>0.279</td>\n",
       "      <td>cpu</td>\n",
       "      <td>sagemaker-tennis-cpu-2020-07-04-16-59-58-288</td>\n",
       "      <td>1284.0</td>\n",
       "      <td>9.951000</td>\n",
       "      <td>12777.084000</td>\n",
       "    </tr>\n",
       "    <tr>\n",
       "      <th>ml.c4.2xlarge</th>\n",
       "      <td>0.557</td>\n",
       "      <td>cpu</td>\n",
       "      <td>sagemaker-tennis-cpu-2020-07-04-17-00-01-117</td>\n",
       "      <td>846.0</td>\n",
       "      <td>13.089500</td>\n",
       "      <td>11073.717000</td>\n",
       "    </tr>\n",
       "    <tr>\n",
       "      <th>ml.p2.xlarge</th>\n",
       "      <td>1.260</td>\n",
       "      <td>gpu</td>\n",
       "      <td>sagemaker-tennis-gpu-2020-07-04-17-00-03-638</td>\n",
       "      <td>1960.0</td>\n",
       "      <td>68.600000</td>\n",
       "      <td>134456.000000</td>\n",
       "    </tr>\n",
       "    <tr>\n",
       "      <th>ml.g4dn.xlarge</th>\n",
       "      <td>0.736</td>\n",
       "      <td>gpu</td>\n",
       "      <td>sagemaker-tennis-gpu-2020-07-04-17-00-04-435</td>\n",
       "      <td>861.0</td>\n",
       "      <td>17.602667</td>\n",
       "      <td>15155.896000</td>\n",
       "    </tr>\n",
       "    <tr>\n",
       "      <th>ml.g4dn.2xlarge</th>\n",
       "      <td>1.053</td>\n",
       "      <td>gpu</td>\n",
       "      <td>sagemaker-tennis-gpu-2020-07-04-17-00-04-838</td>\n",
       "      <td>828.0</td>\n",
       "      <td>24.219000</td>\n",
       "      <td>20053.332000</td>\n",
       "    </tr>\n",
       "  </tbody>\n",
       "</table>\n",
       "</div>"
      ],
      "text/plain": [
       "                 price type                                      job_name  \\\n",
       "ml.m5.large      0.134  cpu  sagemaker-tennis-cpu-2020-07-04-16-59-40-971   \n",
       "ml.m5.xlarge     0.269  cpu  sagemaker-tennis-cpu-2020-07-04-16-59-41-514   \n",
       "ml.m5.2xlarge    0.538  cpu  sagemaker-tennis-cpu-2020-07-04-16-59-42-002   \n",
       "ml.m4.xlarge     0.280  cpu  sagemaker-tennis-cpu-2020-07-04-16-59-45-382   \n",
       "ml.m4.2xlarge    0.560  cpu  sagemaker-tennis-cpu-2020-07-04-16-59-47-773   \n",
       "ml.c5.xlarge     0.238  cpu  sagemaker-tennis-cpu-2020-07-04-16-59-48-369   \n",
       "ml.c5.2xlarge    0.476  cpu  sagemaker-tennis-cpu-2020-07-04-16-59-50-878   \n",
       "ml.c5n.xlarge    0.302  cpu  sagemaker-tennis-cpu-2020-07-04-16-59-51-760   \n",
       "ml.c5n.2xlarge   0.605  cpu  sagemaker-tennis-cpu-2020-07-04-16-59-57-942   \n",
       "ml.c4.xlarge     0.279  cpu  sagemaker-tennis-cpu-2020-07-04-16-59-58-288   \n",
       "ml.c4.2xlarge    0.557  cpu  sagemaker-tennis-cpu-2020-07-04-17-00-01-117   \n",
       "ml.p2.xlarge     1.260  gpu  sagemaker-tennis-gpu-2020-07-04-17-00-03-638   \n",
       "ml.g4dn.xlarge   0.736  gpu  sagemaker-tennis-gpu-2020-07-04-17-00-04-435   \n",
       "ml.g4dn.2xlarge  1.053  gpu  sagemaker-tennis-gpu-2020-07-04-17-00-04-838   \n",
       "\n",
       "                   time       cost            eff  \n",
       "ml.m5.large       865.0   3.219722    2785.059722  \n",
       "ml.m5.xlarge     1169.0   8.735028   10211.247472  \n",
       "ml.m5.2xlarge    1063.0  15.885944   16886.758944  \n",
       "ml.m4.xlarge     1470.0  11.433333   16807.000000  \n",
       "ml.m4.2xlarge     996.0  15.493333   15431.360000  \n",
       "ml.c5.xlarge      990.0   6.545000    6479.550000  \n",
       "ml.c5.2xlarge     972.0  12.852000   12492.144000  \n",
       "ml.c5n.xlarge    1056.0   8.858667    9354.752000  \n",
       "ml.c5n.2xlarge    900.0  15.125000   13612.500000  \n",
       "ml.c4.xlarge     1284.0   9.951000   12777.084000  \n",
       "ml.c4.2xlarge     846.0  13.089500   11073.717000  \n",
       "ml.p2.xlarge     1960.0  68.600000  134456.000000  \n",
       "ml.g4dn.xlarge    861.0  17.602667   15155.896000  \n",
       "ml.g4dn.2xlarge   828.0  24.219000   20053.332000  "
      ]
     },
     "execution_count": 6,
     "metadata": {},
     "output_type": "execute_result"
    }
   ],
   "source": [
    "results['cost'] = results['price'] * results['time'] / 3600 * 100\n",
    "results['eff'] = results['cost'] * results['time']\n",
    "results.to_csv('results.csv')\n",
    "results\n"
   ]
  },
  {
   "cell_type": "markdown",
   "metadata": {},
   "source": [
    "#### Make a pretty plot "
   ]
  },
  {
   "cell_type": "code",
   "execution_count": 7,
   "metadata": {},
   "outputs": [
    {
     "data": {
      "image/png": "[encoded data removed]",
      "text/plain": [
       "<Figure size 432x288 with 1 Axes>"
      ]
     },
     "metadata": {},
     "output_type": "display_data"
    }
   ],
   "source": [
    "import matplotlib.cm as cm\n",
    "import matplotlib.colors as colors\n",
    "\n",
    "colormap = cm.viridis\n",
    "colorlist = [colors.rgb2hex(colormap(i)) for i in np.linspace(0, 0.9, results.shape[0])]\n",
    "\n",
    "markers = ['o', 'v', '^', '<', '>', 's', \n",
    "           '*', 'X', 'P', 'D'] * math.ceil(results.shape[0]/10)\n",
    "\n",
    "fig, ax = plt.subplots()\n",
    "for i, name in enumerate(results.index.tolist()):\n",
    "    ax.scatter(results.loc[name, 'time'], results.loc[name, 'cost'], label=name, s=50, \n",
    "               linewidth=0.1, c=colorlist[i], marker=markers[i])\n",
    "ax.legend(bbox_to_anchor=(1,1))\n",
    "\n",
    "# ax = results.plot.scatter(x='time', y='cost', c='blue')\n",
    "_ = ax.set(xlabel=\"Time in Seconds\", ylabel=\"Cost in Cents\")\n",
    "plt.show()"
   ]
  },
  {
   "cell_type": "markdown",
   "metadata": {},
   "source": [
    "# Conclusion"
   ]
  },
  {
   "cell_type": "code",
   "execution_count": 8,
   "metadata": {},
   "outputs": [
    {
     "name": "stdout",
     "output_type": "stream",
     "text": [
      "ml.m5.large is the cheapest instance type; 14.4 min and $0.032.\n",
      "ml.g4dn.2xlarge is the fastest instance type; 13.8 min and $0.242.\n",
      "ml.m5.large is the most efficient instance type; 14.4 min and $0.032.\n"
     ]
    }
   ],
   "source": [
    "for n, t in zip([results.price.idxmin(), results.time.idxmin(), results.eff.idxmin()],\n",
    "                ['cheapest', 'fastest', 'most efficient']):\n",
    "    print(\"{} is the {} instance type; {:.1f} min and ${:.3f}.\".format(n, t, \n",
    "                                                                    results.loc[n, 'time']/60,\n",
    "                                                                    results.loc[n, 'cost']/100))\n"
   ]
  },
  {
   "cell_type": "markdown",
   "metadata": {},
   "source": [
    "# Reference\n",
    "- [SageMaker Instance types](https://aws.amazon.com/sagemaker/pricing/instance-types/)\n",
    "- [SageMaker Instance prices](https://aws.amazon.com/sagemaker/pricing/)\n",
    "- [SageMaker Estimator SDK](https://sagemaker.readthedocs.io/en/stable/api/training/estimators.html)"
   ]
  },
  {
   "cell_type": "code",
   "execution_count": null,
   "metadata": {},
   "outputs": [],
   "source": []
  }
 ],
 "metadata": {
  "kernelspec": {
   "display_name": "conda_pytorch_p36",
   "language": "python",
   "name": "conda_pytorch_p36"
  },
  "language_info": {
   "codemirror_mode": {
    "name": "ipython",
    "version": 3
   },
   "file_extension": ".py",
   "mimetype": "text/x-python",
   "name": "python",
   "nbconvert_exporter": "python",
   "pygments_lexer": "ipython3",
   "version": "3.6.5"
  }
 },
 "nbformat": 4,
 "nbformat_minor": 2
}
